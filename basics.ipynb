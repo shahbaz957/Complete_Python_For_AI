{
 "cells": [
  {
   "cell_type": "code",
   "execution_count": 25,
   "id": "e842ea9e",
   "metadata": {},
   "outputs": [
    {
     "name": "stdout",
     "output_type": "stream",
     "text": [
      "hello\n"
     ]
    }
   ],
   "source": [
    "print('hello')"
   ]
  },
  {
   "cell_type": "code",
   "execution_count": 26,
   "id": "8ac85ba9",
   "metadata": {},
   "outputs": [],
   "source": [
    "# this is just a comment"
   ]
  },
  {
   "cell_type": "code",
   "execution_count": 27,
   "id": "7d233d2f",
   "metadata": {},
   "outputs": [
    {
     "data": {
      "text/plain": [
       "'\\nhell\\nhwo\\n'"
      ]
     },
     "execution_count": 27,
     "metadata": {},
     "output_type": "execute_result"
    }
   ],
   "source": [
    "'''\n",
    "hell\n",
    "hwo\n",
    "'''"
   ]
  },
  {
   "cell_type": "code",
   "execution_count": 28,
   "id": "0cf3a14e",
   "metadata": {},
   "outputs": [],
   "source": [
    "# this is the license\n",
    "# this is another line"
   ]
  },
  {
   "cell_type": "markdown",
   "id": "9e1319d8",
   "metadata": {},
   "source": [
    "# For Multi line code"
   ]
  },
  {
   "cell_type": "code",
   "execution_count": 29,
   "id": "f50d5185",
   "metadata": {},
   "outputs": [
    {
     "name": "stdout",
     "output_type": "stream",
     "text": [
      "8\n"
     ]
    }
   ],
   "source": [
    "total = 3+1+\\\n",
    "4\n",
    "print(total)"
   ]
  },
  {
   "cell_type": "markdown",
   "id": "daa834cb",
   "metadata": {},
   "source": [
    "# Variable in Python"
   ]
  },
  {
   "cell_type": "code",
   "execution_count": 30,
   "id": "026683da",
   "metadata": {},
   "outputs": [
    {
     "name": "stdout",
     "output_type": "stream",
     "text": [
      "False\n"
     ]
    }
   ],
   "source": [
    "a = 1000\n",
    "y = 1000\n",
    "print(a is y) # small values are cached"
   ]
  },
  {
   "cell_type": "code",
   "execution_count": 31,
   "id": "41c75f10",
   "metadata": {},
   "outputs": [
    {
     "name": "stdout",
     "output_type": "stream",
     "text": [
      "23.0\n"
     ]
    }
   ],
   "source": [
    "a = 23\n",
    "print(float(a))"
   ]
  },
  {
   "cell_type": "code",
   "execution_count": 32,
   "id": "273a5bfe",
   "metadata": {},
   "outputs": [
    {
     "name": "stdout",
     "output_type": "stream",
     "text": [
      "22222222222222222222222222222222\n"
     ]
    }
   ],
   "source": [
    "print(eval('2'*32))"
   ]
  },
  {
   "cell_type": "code",
   "execution_count": 33,
   "id": "258890f4",
   "metadata": {},
   "outputs": [
    {
     "data": {
      "text/plain": [
       "False"
      ]
     },
     "execution_count": 33,
     "metadata": {},
     "output_type": "execute_result"
    }
   ],
   "source": [
    "is_true = bool() # no argument in bool function means it store None and the bool value of None is falsy\n",
    "is_true"
   ]
  },
  {
   "cell_type": "code",
   "execution_count": 34,
   "id": "eb756130",
   "metadata": {},
   "outputs": [],
   "source": [
    "str = 'helo'"
   ]
  },
  {
   "cell_type": "code",
   "execution_count": 35,
   "id": "a8db41bc",
   "metadata": {},
   "outputs": [
    {
     "data": {
      "text/plain": [
       "b'\\xff\\xfeh\\x00e\\x00l\\x00o\\x00'"
      ]
     },
     "execution_count": 35,
     "metadata": {},
     "output_type": "execute_result"
    }
   ],
   "source": [
    "str.encode('utf-16')"
   ]
  },
  {
   "cell_type": "code",
   "execution_count": 36,
   "id": "04f64aed",
   "metadata": {},
   "outputs": [
    {
     "data": {
      "text/plain": [
       "False"
      ]
     },
     "execution_count": 36,
     "metadata": {},
     "output_type": "execute_result"
    }
   ],
   "source": [
    "a = True\n",
    "not a"
   ]
  },
  {
   "cell_type": "code",
   "execution_count": 37,
   "id": "ae0258dd",
   "metadata": {},
   "outputs": [
    {
     "name": "stdout",
     "output_type": "stream",
     "text": [
      "False\n"
     ]
    }
   ],
   "source": [
    "a = bool()\n",
    "print(a)"
   ]
  },
  {
   "cell_type": "code",
   "execution_count": 38,
   "id": "42cfa116",
   "metadata": {},
   "outputs": [
    {
     "name": "stdout",
     "output_type": "stream",
     "text": [
      "10\n",
      "9\n",
      "8\n",
      "7\n",
      "6\n",
      "5\n",
      "4\n",
      "3\n",
      "2\n",
      "1\n"
     ]
    }
   ],
   "source": [
    "for i in range(10,0,-1):\n",
    "    print(i)"
   ]
  },
  {
   "cell_type": "code",
   "execution_count": 39,
   "id": "24846d02",
   "metadata": {},
   "outputs": [
    {
     "name": "stdout",
     "output_type": "stream",
     "text": [
      "range(10, 1)\n"
     ]
    }
   ],
   "source": [
    "print(range(10,1))"
   ]
  },
  {
   "cell_type": "code",
   "execution_count": 40,
   "id": "adf998c8",
   "metadata": {},
   "outputs": [
    {
     "ename": "TypeError",
     "evalue": "'str' object is not callable",
     "output_type": "error",
     "traceback": [
      "\u001b[31m---------------------------------------------------------------------------\u001b[39m",
      "\u001b[31mTypeError\u001b[39m                                 Traceback (most recent call last)",
      "\u001b[36mCell\u001b[39m\u001b[36m \u001b[39m\u001b[32mIn[40]\u001b[39m\u001b[32m, line 2\u001b[39m\n\u001b[32m      1\u001b[39m a = \u001b[32m3\u001b[39m\n\u001b[32m----> \u001b[39m\u001b[32m2\u001b[39m a = \u001b[38;5;28;43mstr\u001b[39;49m\u001b[43m(\u001b[49m\u001b[43ma\u001b[49m\u001b[43m)\u001b[49m\n\u001b[32m      3\u001b[39m \u001b[38;5;28mprint\u001b[39m(\u001b[38;5;28mtype\u001b[39m(a))\n",
      "\u001b[31mTypeError\u001b[39m: 'str' object is not callable"
     ]
    }
   ],
   "source": [
    "a = 3\n",
    "a = str(a)\n",
    "print(type(a))"
   ]
  },
  {
   "cell_type": "code",
   "execution_count": null,
   "id": "88dc59b0",
   "metadata": {},
   "outputs": [
    {
     "name": "stdout",
     "output_type": "stream",
     "text": [
      "1\n",
      "2\n",
      "3\n"
     ]
    }
   ],
   "source": [
    "n = int(input(\"Enter a number : \"))\n",
    "i = 1 \n",
    "while (i < n):\n",
    "    print(i)\n",
    "    i += 1\n",
    "\n"
   ]
  },
  {
   "cell_type": "markdown",
   "id": "fa11dc4f",
   "metadata": {},
   "source": [
    "## **Prime Number**"
   ]
  },
  {
   "cell_type": "code",
   "execution_count": null,
   "id": "c7178291",
   "metadata": {},
   "outputs": [
    {
     "name": "stdout",
     "output_type": "stream",
     "text": [
      "2\n",
      "3\n",
      "5\n",
      "7\n",
      "11\n",
      "13\n",
      "17\n",
      "19\n",
      "23\n",
      "29\n",
      "31\n",
      "37\n",
      "41\n",
      "43\n",
      "47\n",
      "53\n",
      "59\n",
      "61\n",
      "67\n",
      "71\n",
      "73\n",
      "79\n",
      "83\n",
      "89\n",
      "97\n"
     ]
    }
   ],
   "source": [
    "for num in range(1,101):\n",
    "    if num > 1:\n",
    "        for i in range(2 , num):\n",
    "            if (num %i) == 0:\n",
    "                break\n",
    "        else:\n",
    "            print(num)"
   ]
  },
  {
   "cell_type": "markdown",
   "id": "2b76326b",
   "metadata": {},
   "source": [
    "## **List and List Comprehension**"
   ]
  },
  {
   "cell_type": "markdown",
   "id": "c13619c3",
   "metadata": {},
   "source": [
    "### Famous topic for Gen AI"
   ]
  },
  {
   "cell_type": "code",
   "execution_count": null,
   "id": "c82666dd",
   "metadata": {},
   "outputs": [],
   "source": [
    "l = [x for x in range(10)] # this is basic list comprehension"
   ]
  },
  {
   "cell_type": "code",
   "execution_count": null,
   "id": "cd645df7",
   "metadata": {},
   "outputs": [
    {
     "data": {
      "text/plain": [
       "['grapes', 'mango', 'apple']"
      ]
     },
     "execution_count": 17,
     "metadata": {},
     "output_type": "execute_result"
    }
   ],
   "source": [
    "l = ['apple' , 'mango' , 'grapes']\n",
    "l[-1:-4:-1]"
   ]
  },
  {
   "cell_type": "code",
   "execution_count": null,
   "id": "51df2f99",
   "metadata": {},
   "outputs": [],
   "source": [
    "# list methods\n",
    "a = [1,2,4]\n",
    "a.extend([1,2,4])"
   ]
  },
  {
   "cell_type": "code",
   "execution_count": null,
   "id": "8022de88",
   "metadata": {},
   "outputs": [
    {
     "data": {
      "text/plain": [
       "[1, 2, 4, 1, 2, 4]"
      ]
     },
     "execution_count": 23,
     "metadata": {},
     "output_type": "execute_result"
    }
   ],
   "source": [
    "len(a)\n",
    "a"
   ]
  },
  {
   "cell_type": "code",
   "execution_count": null,
   "id": "21eb8145",
   "metadata": {},
   "outputs": [],
   "source": [
    "a.insert(2 , 'krish')"
   ]
  },
  {
   "cell_type": "code",
   "execution_count": null,
   "id": "bebd82ff",
   "metadata": {},
   "outputs": [
    {
     "data": {
      "text/plain": [
       "[1, 2, 'krish', 4, 1, 2, 4]"
      ]
     },
     "execution_count": 25,
     "metadata": {},
     "output_type": "execute_result"
    }
   ],
   "source": [
    "a"
   ]
  },
  {
   "cell_type": "code",
   "execution_count": null,
   "id": "2f1ec86b",
   "metadata": {},
   "outputs": [],
   "source": [
    "a.remove(4)"
   ]
  },
  {
   "cell_type": "code",
   "execution_count": null,
   "id": "97fbbc91",
   "metadata": {},
   "outputs": [
    {
     "data": {
      "text/plain": [
       "[1, 2, 'krish', 1, 2, 4]"
      ]
     },
     "execution_count": 27,
     "metadata": {},
     "output_type": "execute_result"
    }
   ],
   "source": [
    "a"
   ]
  },
  {
   "cell_type": "code",
   "execution_count": null,
   "id": "123b6f0c",
   "metadata": {},
   "outputs": [],
   "source": [
    "a.remove(2)"
   ]
  },
  {
   "cell_type": "code",
   "execution_count": null,
   "id": "a40cd4af",
   "metadata": {},
   "outputs": [
    {
     "data": {
      "text/plain": [
       "[1, 'krish', 1, 2, 4]"
      ]
     },
     "execution_count": 30,
     "metadata": {},
     "output_type": "execute_result"
    }
   ],
   "source": [
    "a"
   ]
  },
  {
   "cell_type": "code",
   "execution_count": null,
   "id": "3ef748d7",
   "metadata": {},
   "outputs": [
    {
     "data": {
      "text/plain": [
       "4"
      ]
     },
     "execution_count": 31,
     "metadata": {},
     "output_type": "execute_result"
    }
   ],
   "source": [
    "a.pop()"
   ]
  },
  {
   "cell_type": "code",
   "execution_count": null,
   "id": "2faa5248",
   "metadata": {},
   "outputs": [
    {
     "data": {
      "text/plain": [
       "[1, 'krish', 1, 2]"
      ]
     },
     "execution_count": 32,
     "metadata": {},
     "output_type": "execute_result"
    }
   ],
   "source": [
    "a"
   ]
  },
  {
   "cell_type": "code",
   "execution_count": null,
   "id": "9a137695",
   "metadata": {},
   "outputs": [
    {
     "data": {
      "text/plain": [
       "1"
      ]
     },
     "execution_count": 33,
     "metadata": {},
     "output_type": "execute_result"
    }
   ],
   "source": [
    "a.index('krish')"
   ]
  },
  {
   "cell_type": "code",
   "execution_count": null,
   "id": "26be40f8",
   "metadata": {},
   "outputs": [
    {
     "data": {
      "text/plain": [
       "2"
      ]
     },
     "execution_count": 34,
     "metadata": {},
     "output_type": "execute_result"
    }
   ],
   "source": [
    "a.count(1)"
   ]
  },
  {
   "cell_type": "code",
   "execution_count": null,
   "id": "1d48ae33",
   "metadata": {},
   "outputs": [
    {
     "name": "stdout",
     "output_type": "stream",
     "text": [
      "[0, 1, 4, 9, 16, 25, 36, 49, 64, 81]\n"
     ]
    }
   ],
   "source": [
    "l = []\n",
    "for i in range(10):\n",
    "    l.append(i**2)\n",
    "print(l)"
   ]
  },
  {
   "cell_type": "code",
   "execution_count": null,
   "id": "d4fba819",
   "metadata": {},
   "outputs": [],
   "source": [
    "b = [x**2 for x in range(10)]"
   ]
  },
  {
   "cell_type": "code",
   "execution_count": null,
   "id": "c7d68cb4",
   "metadata": {},
   "outputs": [
    {
     "data": {
      "text/plain": [
       "[0, 1, 4, 9, 16, 25, 36, 49, 64, 81]"
      ]
     },
     "execution_count": 37,
     "metadata": {},
     "output_type": "execute_result"
    }
   ],
   "source": [
    "b"
   ]
  },
  {
   "cell_type": "code",
   "execution_count": null,
   "id": "420b9e69",
   "metadata": {},
   "outputs": [],
   "source": [
    "###### list comprehension\n",
    "even = [x**2 for x in range(10) if x%2 == 0]"
   ]
  },
  {
   "cell_type": "code",
   "execution_count": null,
   "id": "5dc1c575",
   "metadata": {},
   "outputs": [
    {
     "data": {
      "text/plain": [
       "[0, 4, 16, 36, 64]"
      ]
     },
     "execution_count": 39,
     "metadata": {},
     "output_type": "execute_result"
    }
   ],
   "source": [
    "even"
   ]
  },
  {
   "cell_type": "code",
   "execution_count": null,
   "id": "5acd702a",
   "metadata": {},
   "outputs": [
    {
     "name": "stdout",
     "output_type": "stream",
     "text": [
      "1  -->  a\n",
      "2  -->  b\n",
      "3  -->  c\n",
      "4  -->  d\n"
     ]
    }
   ],
   "source": [
    "### nested list comprehension \n",
    "l1 = [1,2,3,4]\n",
    "l2 = ['a' , 'b' , 'c' , 'd']\n",
    "for a , b in zip(l1,l2):\n",
    "    print(a ,' --> ' , b)"
   ]
  },
  {
   "cell_type": "markdown",
   "id": "07d17a26",
   "metadata": {},
   "source": [
    "# so list are used to store data just like arrays store data in other programming languages so systems like inventory management system and other systems uses list for their purpose"
   ]
  },
  {
   "cell_type": "markdown",
   "id": "a6369ac1",
   "metadata": {},
   "source": [
    "# **Sets in Python**"
   ]
  },
  {
   "cell_type": "code",
   "execution_count": null,
   "id": "34dc2c74",
   "metadata": {},
   "outputs": [],
   "source": [
    "a = {1,2,4,1}"
   ]
  },
  {
   "cell_type": "code",
   "execution_count": null,
   "id": "ab2f2207",
   "metadata": {},
   "outputs": [
    {
     "data": {
      "text/plain": [
       "{1, 2, 4}"
      ]
     },
     "execution_count": 3,
     "metadata": {},
     "output_type": "execute_result"
    }
   ],
   "source": [
    "a"
   ]
  },
  {
   "cell_type": "code",
   "execution_count": null,
   "id": "10291654",
   "metadata": {},
   "outputs": [
    {
     "name": "stdout",
     "output_type": "stream",
     "text": [
      "<class 'set'>\n"
     ]
    }
   ],
   "source": [
    "sett = set()\n",
    "print(type(sett))"
   ]
  },
  {
   "cell_type": "code",
   "execution_count": null,
   "id": "52638863",
   "metadata": {},
   "outputs": [
    {
     "name": "stdout",
     "output_type": "stream",
     "text": [
      "1\n",
      "2\n",
      "4\n"
     ]
    }
   ],
   "source": [
    "for i in a:\n",
    "    print(i)"
   ]
  },
  {
   "cell_type": "code",
   "execution_count": null,
   "id": "5db11795",
   "metadata": {},
   "outputs": [],
   "source": [
    "first = next(iter(a))"
   ]
  },
  {
   "cell_type": "markdown",
   "id": "2eb3e589",
   "metadata": {},
   "source": [
    "# intersection_update means on which set you are applying this particular method is got updated permanently\n"
   ]
  },
  {
   "cell_type": "markdown",
   "id": "3f699667",
   "metadata": {},
   "source": [
    "## **Dictionaries**"
   ]
  },
  {
   "cell_type": "code",
   "execution_count": null,
   "id": "03468255",
   "metadata": {},
   "outputs": [
    {
     "data": {
      "text/plain": [
       "{'Name': 'Shahbaz', 'Age': 23}"
      ]
     },
     "execution_count": 9,
     "metadata": {},
     "output_type": "execute_result"
    }
   ],
   "source": [
    "\n",
    "dic = {'Name' : 'Shahbaz' , 'Age' : 18 , 'Age' : 23}\n",
    "dic"
   ]
  },
  {
   "cell_type": "code",
   "execution_count": null,
   "id": "87fe9512",
   "metadata": {},
   "outputs": [
    {
     "ename": "TypeError",
     "evalue": "'dict_items' object is not subscriptable",
     "output_type": "error",
     "traceback": [
      "\u001b[31m---------------------------------------------------------------------------\u001b[39m",
      "\u001b[31mTypeError\u001b[39m                                 Traceback (most recent call last)",
      "\u001b[36mCell\u001b[39m\u001b[36m \u001b[39m\u001b[32mIn[4]\u001b[39m\u001b[32m, line 1\u001b[39m\n\u001b[32m----> \u001b[39m\u001b[32m1\u001b[39m \u001b[43mdic\u001b[49m\u001b[43m.\u001b[49m\u001b[43mitems\u001b[49m\u001b[43m(\u001b[49m\u001b[43m)\u001b[49m\u001b[43m[\u001b[49m\u001b[32;43m0\u001b[39;49m\u001b[43m]\u001b[49m\n",
      "\u001b[31mTypeError\u001b[39m: 'dict_items' object is not subscriptable"
     ]
    }
   ],
   "source": [
    "dic.items()"
   ]
  },
  {
   "cell_type": "code",
   "execution_count": null,
   "id": "a50a202e",
   "metadata": {},
   "outputs": [
    {
     "data": {
      "text/plain": [
       "23"
      ]
     },
     "execution_count": 10,
     "metadata": {},
     "output_type": "execute_result"
    }
   ],
   "source": [
    "dic['Age']"
   ]
  },
  {
   "cell_type": "code",
   "execution_count": null,
   "id": "cc2c2b2b",
   "metadata": {},
   "outputs": [
    {
     "data": {
      "text/plain": [
       "'nothing'"
      ]
     },
     "execution_count": 15,
     "metadata": {},
     "output_type": "execute_result"
    }
   ],
   "source": [
    "dic.get('age' , 'nothing')\n",
    "# dic['age']"
   ]
  },
  {
   "cell_type": "code",
   "execution_count": null,
   "id": "8358b878",
   "metadata": {},
   "outputs": [],
   "source": [
    "del dic['Age']"
   ]
  },
  {
   "cell_type": "code",
   "execution_count": null,
   "id": "9a3830ca",
   "metadata": {},
   "outputs": [
    {
     "data": {
      "text/plain": [
       "{'Name': 'Shahbaz'}"
      ]
     },
     "execution_count": 17,
     "metadata": {},
     "output_type": "execute_result"
    }
   ],
   "source": [
    "dic"
   ]
  },
  {
   "cell_type": "code",
   "execution_count": null,
   "id": "34630261",
   "metadata": {},
   "outputs": [],
   "source": [
    "dic['Age'] = 12\n",
    "dic['city'] = 'lhr'"
   ]
  },
  {
   "cell_type": "code",
   "execution_count": null,
   "id": "167d35c9",
   "metadata": {},
   "outputs": [
    {
     "name": "stdout",
     "output_type": "stream",
     "text": [
      "Name\n",
      "Age\n",
      "city\n"
     ]
    }
   ],
   "source": [
    "for i in dic.keys():\n",
    "    print(i)"
   ]
  },
  {
   "cell_type": "code",
   "execution_count": null,
   "id": "a2180477",
   "metadata": {},
   "outputs": [
    {
     "name": "stdout",
     "output_type": "stream",
     "text": [
      "Shahbaz\n",
      "12\n",
      "lhr\n"
     ]
    }
   ],
   "source": [
    "for j in dic.values():\n",
    "    print(j)"
   ]
  },
  {
   "cell_type": "code",
   "execution_count": null,
   "id": "157638a3",
   "metadata": {},
   "outputs": [],
   "source": [
    "numbers = [1,2,2,3,3,3,4,4,4,4,4]\n",
    "count = {}\n",
    "for i in numbers:\n",
    "    c = 0 \n",
    "    for j in numbers:\n",
    "        if i == j :\n",
    "            c += 1\n",
    "    count[i] = c\n"
   ]
  },
  {
   "cell_type": "code",
   "execution_count": null,
   "id": "b4f6e4c6",
   "metadata": {},
   "outputs": [
    {
     "data": {
      "text/plain": [
       "{1: 1, 2: 2, 3: 3, 4: 5}"
      ]
     },
     "execution_count": 27,
     "metadata": {},
     "output_type": "execute_result"
    }
   ],
   "source": [
    "count"
   ]
  },
  {
   "cell_type": "code",
   "execution_count": null,
   "id": "b7b1dd57",
   "metadata": {},
   "outputs": [
    {
     "data": {
      "text/plain": [
       "True"
      ]
     },
     "execution_count": 30,
     "metadata": {},
     "output_type": "execute_result"
    }
   ],
   "source": [
    "4 in count # in membership particularly check for the keys"
   ]
  },
  {
   "cell_type": "code",
   "execution_count": null,
   "id": "d4e91c74",
   "metadata": {},
   "outputs": [
    {
     "data": {
      "text/plain": [
       "{'Name': 'Shahbaz', 'Age': 12, 'city': 'lhr'}"
      ]
     },
     "execution_count": 31,
     "metadata": {},
     "output_type": "execute_result"
    }
   ],
   "source": [
    "dic"
   ]
  },
  {
   "cell_type": "markdown",
   "id": "6aaf265c",
   "metadata": {},
   "source": [
    "# **Merging two different Dictionaries**"
   ]
  },
  {
   "cell_type": "code",
   "execution_count": null,
   "id": "153cde9c",
   "metadata": {},
   "outputs": [],
   "source": [
    "merged_dic = {**dic , **count}"
   ]
  },
  {
   "cell_type": "code",
   "execution_count": null,
   "id": "6f2a8bbe",
   "metadata": {},
   "outputs": [
    {
     "data": {
      "text/plain": [
       "{'Name': 'Shahbaz', 'Age': 12, 'city': 'lhr', 1: 1, 2: 2, 3: 3, 4: 5}"
      ]
     },
     "execution_count": 33,
     "metadata": {},
     "output_type": "execute_result"
    }
   ],
   "source": [
    "merged_dic"
   ]
  },
  {
   "cell_type": "markdown",
   "id": "11e33fea",
   "metadata": {},
   "source": [
    "# **Tuples**"
   ]
  },
  {
   "cell_type": "code",
   "execution_count": null,
   "id": "ba78b6de",
   "metadata": {},
   "outputs": [],
   "source": [
    "t = (2,4,5)"
   ]
  },
  {
   "cell_type": "code",
   "execution_count": null,
   "id": "adce7ae7",
   "metadata": {},
   "outputs": [
    {
     "data": {
      "text/plain": [
       "2"
      ]
     },
     "execution_count": 35,
     "metadata": {},
     "output_type": "execute_result"
    }
   ],
   "source": [
    "t[0] # tuples are immutable and ordered datastructure that can also be used as keys in dictionaries"
   ]
  },
  {
   "cell_type": "markdown",
   "id": "22e9a10d",
   "metadata": {},
   "source": [
    "# packing and unpacking a tuple"
   ]
  },
  {
   "cell_type": "code",
   "execution_count": null,
   "id": "36970124",
   "metadata": {},
   "outputs": [],
   "source": [
    "# packing the tuple\n",
    "a = 'hello' , 3 , 3.14"
   ]
  },
  {
   "cell_type": "code",
   "execution_count": null,
   "id": "ee345bf4",
   "metadata": {},
   "outputs": [
    {
     "name": "stdout",
     "output_type": "stream",
     "text": [
      "<class 'tuple'>\n"
     ]
    }
   ],
   "source": [
    "a\n",
    "print(type(a))"
   ]
  },
  {
   "cell_type": "code",
   "execution_count": null,
   "id": "1d0df317",
   "metadata": {},
   "outputs": [],
   "source": [
    "# Unpackig the tuple\n",
    "b,c,d = a"
   ]
  },
  {
   "cell_type": "code",
   "execution_count": null,
   "id": "65603757",
   "metadata": {},
   "outputs": [
    {
     "data": {
      "text/plain": [
       "'hello'"
      ]
     },
     "execution_count": 41,
     "metadata": {},
     "output_type": "execute_result"
    }
   ],
   "source": [
    "b"
   ]
  },
  {
   "cell_type": "code",
   "execution_count": null,
   "id": "7cc15f90",
   "metadata": {},
   "outputs": [],
   "source": [
    "number = (2,3,5,3,5,7,3,7,9)\n",
    "first , *middle , last = number"
   ]
  },
  {
   "cell_type": "code",
   "execution_count": null,
   "id": "99b0e8df",
   "metadata": {},
   "outputs": [
    {
     "data": {
      "text/plain": [
       "[3, 5, 3, 5, 7, 3, 7]"
      ]
     },
     "execution_count": 43,
     "metadata": {},
     "output_type": "execute_result"
    }
   ],
   "source": [
    "middle"
   ]
  },
  {
   "cell_type": "code",
   "execution_count": null,
   "id": "043e5200",
   "metadata": {},
   "outputs": [
    {
     "data": {
      "text/plain": [
       "2"
      ]
     },
     "execution_count": 44,
     "metadata": {},
     "output_type": "execute_result"
    }
   ],
   "source": [
    "first"
   ]
  },
  {
   "cell_type": "code",
   "execution_count": null,
   "id": "15531bde",
   "metadata": {},
   "outputs": [
    {
     "data": {
      "text/plain": [
       "9"
      ]
     },
     "execution_count": 45,
     "metadata": {},
     "output_type": "execute_result"
    }
   ],
   "source": [
    "last"
   ]
  },
  {
   "cell_type": "markdown",
   "id": "6df2f555",
   "metadata": {},
   "source": [
    "## **Functions and stuff**"
   ]
  },
  {
   "cell_type": "code",
   "execution_count": null,
   "id": "4dcc7ba0",
   "metadata": {},
   "outputs": [],
   "source": [
    "def check(num):\n",
    "    \"\"\"this function check whether the number is even or odd\"\"\"\n",
    "    if num%2 == 0:\n",
    "        return 'even'\n",
    "    else:\n",
    "        return 'odd'"
   ]
  },
  {
   "cell_type": "code",
   "execution_count": null,
   "id": "ef789146",
   "metadata": {},
   "outputs": [
    {
     "name": "stdout",
     "output_type": "stream",
     "text": [
      "even\n"
     ]
    }
   ],
   "source": [
    "print(check(14))"
   ]
  },
  {
   "cell_type": "code",
   "execution_count": null,
   "id": "1aaae09f",
   "metadata": {},
   "outputs": [],
   "source": [
    "# default parameter\n",
    "def greet(name = 'john doe'):\n",
    "    print(f\"hello {name} welcome\")"
   ]
  },
  {
   "cell_type": "code",
   "execution_count": null,
   "id": "ff95404d",
   "metadata": {},
   "outputs": [
    {
     "name": "stdout",
     "output_type": "stream",
     "text": [
      "hello john doe welcome\n"
     ]
    }
   ],
   "source": [
    "greet()"
   ]
  },
  {
   "cell_type": "code",
   "execution_count": null,
   "id": "556034c6",
   "metadata": {},
   "outputs": [
    {
     "name": "stdout",
     "output_type": "stream",
     "text": [
      "1\n",
      "2\n",
      "3\n",
      "4\n",
      "5\n",
      "3\n",
      "5\n",
      "shahbaz\n"
     ]
    }
   ],
   "source": [
    "## positional argument\n",
    "def print_num(*args):\n",
    "    for i in args:\n",
    "        print(i)\n",
    "print_num(1,2,3,4,5,3,5,'shahbaz')"
   ]
  },
  {
   "cell_type": "code",
   "execution_count": null,
   "id": "eb21a05e",
   "metadata": {},
   "outputs": [],
   "source": [
    "### keyword argument\n",
    "def print_detail(**kwargs): # all the parameters must be in key_value pair\n",
    "    for key , value in kwargs.items():\n",
    "        print(f'{key} --> {value}')\n"
   ]
  },
  {
   "cell_type": "code",
   "execution_count": null,
   "id": "b8005b18",
   "metadata": {},
   "outputs": [],
   "source": [
    "a = {'name' : 'shahbaz' , 'age' : 14}\n",
    "b = {'profession' : 'software_developer' , 'occupation' : 'CEO'}"
   ]
  },
  {
   "cell_type": "code",
   "execution_count": null,
   "id": "659abb93",
   "metadata": {},
   "outputs": [
    {
     "name": "stdout",
     "output_type": "stream",
     "text": [
      "name --> shahbaz\n",
      "age --> 13\n",
      "occupation --> CEO\n"
     ]
    }
   ],
   "source": [
    "print_detail(name = 'shahbaz' , age = 13 , occupation = 'CEO')"
   ]
  },
  {
   "cell_type": "code",
   "execution_count": null,
   "id": "cdc5bedb",
   "metadata": {},
   "outputs": [],
   "source": [
    "s = 'aHalsd adk shahaBaz'"
   ]
  },
  {
   "cell_type": "code",
   "execution_count": null,
   "id": "98b33328",
   "metadata": {},
   "outputs": [
    {
     "data": {
      "text/plain": [
       "'ahalsdadkshahabaz'"
      ]
     },
     "execution_count": 3,
     "metadata": {},
     "output_type": "execute_result"
    }
   ],
   "source": [
    "s.lower().replace(\" \" , '')"
   ]
  },
  {
   "cell_type": "markdown",
   "id": "00b810d8",
   "metadata": {},
   "source": [
    "## Is palindrome Problem\n"
   ]
  },
  {
   "cell_type": "code",
   "execution_count": null,
   "id": "a1ec1580",
   "metadata": {},
   "outputs": [],
   "source": [
    "def is_palindrome(s):\n",
    "    s = s.lower().replace(\" \" , '')\n",
    "    return s == s[::-1]"
   ]
  },
  {
   "cell_type": "code",
   "execution_count": null,
   "id": "eb46f134",
   "metadata": {},
   "outputs": [
    {
     "data": {
      "text/plain": [
       "False"
      ]
     },
     "execution_count": 5,
     "metadata": {},
     "output_type": "execute_result"
    }
   ],
   "source": [
    "is_palindrome('shahbaz')"
   ]
  },
  {
   "cell_type": "code",
   "execution_count": null,
   "id": "32c04485",
   "metadata": {},
   "outputs": [
    {
     "data": {
      "text/plain": [
       "True"
      ]
     },
     "execution_count": 7,
     "metadata": {},
     "output_type": "execute_result"
    }
   ],
   "source": [
    "is_palindrome('racecar')"
   ]
  },
  {
   "cell_type": "code",
   "execution_count": null,
   "id": "39a75df5",
   "metadata": {},
   "outputs": [
    {
     "data": {
      "text/plain": [
       "True"
      ]
     },
     "execution_count": 8,
     "metadata": {},
     "output_type": "execute_result"
    }
   ],
   "source": [
    "is_palindrome('a man a plan a canal panama')"
   ]
  },
  {
   "cell_type": "code",
   "execution_count": null,
   "id": "1db89bac",
   "metadata": {},
   "outputs": [],
   "source": [
    "def fact(n):\n",
    "    # base case\n",
    "    if n == 0 :\n",
    "        return 1\n",
    "    else:\n",
    "        return n * fact(n-1)"
   ]
  },
  {
   "cell_type": "code",
   "execution_count": null,
   "id": "37b51a76",
   "metadata": {},
   "outputs": [
    {
     "name": "stdout",
     "output_type": "stream",
     "text": [
      "282784357070376421737321157863126079569206621011384073302207346826776695515684249330307371278473853102019349798045915179100230031119173789744621239324498195310407860640436908326061351606089202822492711252907048966579004245988346449695257710237214954311953666711183037087713609453946806882483177861497606007637953431371356590637960051478362688653475825405045364368055759415451525278063942477249262511737021913905730617103826872918581744439271720428255901165552010427402965828639675052927622457762338854839754007772487270297429831829119006937027763565262013983734905162278639543832994392921534652133835426395015634011909629393755498309432181277753590501764054060393542220577550056661849432967449691678786743586260471797491966435235948976078845590194598776332692135631796882188469248863840281061456870597393809964152666051991707803029373641372108886126119697906229512802902967222166191536980910896539316538275530631078615485427582758625691550378402039514161561011406655647227629690112075255006931389239871880244733191696630299136076624888855398947462278383197628543050716029597313165905414152052420508421345081485060386646370869245294039172769050293164012155724381411558830291806996396330963544772188640366824067665805591549900752023656967873347636239317705323001908016774222422567171885332586986902043050608552803352387515424322995519622044058278312404420621865487569712974832643651085175165908552982027251825421545620185526334728735088802941585233184929153318719467398746028010045350485120912701222430501723160464275250578448048960510464686163552033897913565158303440850660420650853492466173299314420951551860269368429725877303297501186339607329310087515471623669459287883977505735748362379000798319544276769359817452052537176002689258594585750971528427120078359120935670659391464211648554837236417192146524997826057853692487035220575121586847998236342875383357344531200956734529999577458475200052961027881682471955867387969442133959114817824772901439299132160618589507208028626489661369564033175757596801890070235261894513473105268778095514626133304157012991927643154809366058670948715069995650420317325832400267946555892058427340196639581628148273092914839848415798304194937291470783626135976456433016747879692190358937691423615844629355794492545101010478787934978140149583795561995768984803867629477061031788796439116261959902611236824483476832802755272865530167771962463203997804311008714302815653524986924720156220238818907456408382076647924488197641160170731384558592814863947888887129512948228596866844198575469116486327061130196368168711216269145718038479784003967482382770157420533470362940000429260628733963734506425200893160357963776944035822509523300328307144920654042633501690241904435648407339835283731122188285477741993140385712251127888561677902404134576965386864867906325175593027661285539474122011885485852200410011093808572768992073411132912761559942648676716612660538820765879093525638098701382765352685810439886271608987391510355956082261544451867543131749323912622051990186229760000000000000000000000000000000000000000000000000000000000000000000000000000000000000000000000000000000000000000000000000000000000000000000000000000000000000000000000000000000000000000000000000000000000000000000000000000000000000000000000000000000000000000000000000000000000000000000000000000000000000000000\n"
     ]
    }
   ],
   "source": [
    "print(fact(1242))"
   ]
  },
  {
   "cell_type": "code",
   "execution_count": null,
   "id": "dbb678de",
   "metadata": {},
   "outputs": [
    {
     "data": {
      "text/plain": [
       "'shahbaz'"
      ]
     },
     "execution_count": 23,
     "metadata": {},
     "output_type": "execute_result"
    }
   ],
   "source": [
    "a.get('name')"
   ]
  },
  {
   "cell_type": "code",
   "execution_count": null,
   "id": "94c9cb67",
   "metadata": {},
   "outputs": [],
   "source": [
    "def count(filepath):\n",
    "    word_count = {}\n",
    "    with open(filepath , 'r') as file:\n",
    "        for line in file:\n",
    "            words = line.split()\n",
    "            for word in words:\n",
    "                word = word.lower().strip('!@%&*')\n",
    "                word_count[word] = word_count.get(word , 0) + 1\n",
    "    return word_count\n"
   ]
  },
  {
   "cell_type": "code",
   "execution_count": null,
   "id": "35dcba25",
   "metadata": {},
   "outputs": [],
   "source": [
    "count_dic = count('./sample.txt')"
   ]
  },
  {
   "cell_type": "code",
   "execution_count": null,
   "id": "52a7c9f4",
   "metadata": {},
   "outputs": [
    {
     "data": {
      "text/plain": [
       "{'this': 1,\n",
       " 'is': 2,\n",
       " 'the': 2,\n",
       " 'file': 1,\n",
       " 'that': 1,\n",
       " '': 1,\n",
       " 'have': 1,\n",
       " 'created': 1,\n",
       " 'for': 1,\n",
       " 'word': 1,\n",
       " 'count': 2,\n",
       " 'now': 1,\n",
       " 'you': 1,\n",
       " 'job': 1,\n",
       " 'to': 1,\n",
       " 'words': 1}"
      ]
     },
     "execution_count": 30,
     "metadata": {},
     "output_type": "execute_result"
    }
   ],
   "source": [
    "count_dic"
   ]
  },
  {
   "cell_type": "code",
   "execution_count": null,
   "id": "3442eca7",
   "metadata": {},
   "outputs": [],
   "source": [
    "# Email Validator \n",
    "import re\n",
    "def validator(email):\n",
    "    pattern = r'^[a-zA-Z0-9._%+-]+@[a-zA-Z0-9.-]+\\.[a-zA-Z]{2,}$'\n",
    "    print(re.match(pattern , email))"
   ]
  },
  {
   "cell_type": "code",
   "execution_count": null,
   "id": "9b587a1b",
   "metadata": {},
   "outputs": [
    {
     "name": "stdout",
     "output_type": "stream",
     "text": [
      "<re.Match object; span=(0, 18), match='mirza734@gmail.com'>\n"
     ]
    }
   ],
   "source": [
    "validator('mirza734@gmail.com')"
   ]
  },
  {
   "cell_type": "code",
   "execution_count": null,
   "id": "52821bd4",
   "metadata": {},
   "outputs": [
    {
     "name": "stdout",
     "output_type": "stream",
     "text": [
      "found the pattern\n"
     ]
    }
   ],
   "source": [
    "if bool(re.search(r'world', 'Hello world')):\n",
    "    print('found the pattern')\n",
    "else:\n",
    "    print('Pattern is not found')"
   ]
  },
  {
   "cell_type": "markdown",
   "id": "51daf128",
   "metadata": {},
   "source": [
    "## **Lambda functions**"
   ]
  },
  {
   "cell_type": "markdown",
   "id": "01434170",
   "metadata": {},
   "source": [
    "# anonymous function ( a function without a name they can have any number of argument but have only one expression means one statement of logic )\n"
   ]
  },
  {
   "cell_type": "code",
   "execution_count": null,
   "id": "3210bffc",
   "metadata": {},
   "outputs": [],
   "source": [
    "add = lambda a,b : a+b"
   ]
  },
  {
   "cell_type": "code",
   "execution_count": null,
   "id": "30460e70",
   "metadata": {},
   "outputs": [
    {
     "data": {
      "text/plain": [
       "7"
      ]
     },
     "execution_count": 45,
     "metadata": {},
     "output_type": "execute_result"
    }
   ],
   "source": [
    "add(4,3)"
   ]
  },
  {
   "cell_type": "code",
   "execution_count": null,
   "id": "7fb142d6",
   "metadata": {},
   "outputs": [],
   "source": [
    "check_even = lambda a : a % 2 ==0"
   ]
  },
  {
   "cell_type": "code",
   "execution_count": null,
   "id": "023e9f27",
   "metadata": {},
   "outputs": [
    {
     "name": "stdout",
     "output_type": "stream",
     "text": [
      "True\n"
     ]
    }
   ],
   "source": [
    "print(check_even(2))"
   ]
  },
  {
   "cell_type": "code",
   "execution_count": null,
   "id": "14f5fe5b",
   "metadata": {},
   "outputs": [],
   "source": [
    "sq = lambda x : x**2\n",
    "lst = [1,3,5,7,9]\n"
   ]
  },
  {
   "cell_type": "markdown",
   "id": "365c5c88",
   "metadata": {},
   "source": [
    "## MAP function"
   ]
  },
  {
   "cell_type": "code",
   "execution_count": null,
   "id": "16edb7d2",
   "metadata": {},
   "outputs": [
    {
     "data": {
      "text/plain": [
       "[1, 9, 25, 49, 81]"
      ]
     },
     "execution_count": 53,
     "metadata": {},
     "output_type": "execute_result"
    }
   ],
   "source": [
    "list(map(sq , lst))"
   ]
  },
  {
   "cell_type": "code",
   "execution_count": null,
   "id": "217f09b0",
   "metadata": {},
   "outputs": [],
   "source": [
    "# application of lambda function on two iterables\n",
    "a = [1,2,3]\n",
    "b = [5,6,7]\n",
    "added_num = map(lambda x ,y : x+y , a , b)"
   ]
  },
  {
   "cell_type": "code",
   "execution_count": null,
   "id": "68f43209",
   "metadata": {},
   "outputs": [
    {
     "data": {
      "text/plain": [
       "[6, 8, 10]"
      ]
     },
     "execution_count": 56,
     "metadata": {},
     "output_type": "execute_result"
    }
   ],
   "source": [
    "list(added_num)"
   ]
  },
  {
   "cell_type": "code",
   "execution_count": null,
   "id": "489121f6",
   "metadata": {},
   "outputs": [
    {
     "data": {
      "text/plain": [
       "[1, 2, 3]"
      ]
     },
     "execution_count": 57,
     "metadata": {},
     "output_type": "execute_result"
    }
   ],
   "source": [
    "srt = ['1','2','3']\n",
    "list(map(int , srt))"
   ]
  },
  {
   "cell_type": "code",
   "execution_count": null,
   "id": "52d5b73e",
   "metadata": {},
   "outputs": [],
   "source": [
    "# using map function i can create a function that can only extract names or whatever you want\n",
    "def extract(dic):\n",
    "    return dic['name']\n",
    "dic1 = [\n",
    "    {'name' : 'shahbaz' , 'age' : 18},\n",
    "    {'name' : 'ali' , 'age' : 63}\n",
    "]"
   ]
  },
  {
   "cell_type": "code",
   "execution_count": null,
   "id": "f6c8d069",
   "metadata": {},
   "outputs": [
    {
     "data": {
      "text/plain": [
       "['shahbaz', 'ali']"
      ]
     },
     "execution_count": 59,
     "metadata": {},
     "output_type": "execute_result"
    }
   ],
   "source": [
    "list(map(extract , dic1))"
   ]
  },
  {
   "cell_type": "markdown",
   "id": "584c65e1",
   "metadata": {},
   "source": [
    "### Filter Function"
   ]
  },
  {
   "cell_type": "code",
   "execution_count": null,
   "id": "ad72c7e8",
   "metadata": {},
   "outputs": [],
   "source": [
    "def even_Check(num):\n",
    "    if (num % 2 == 0):\n",
    "        return True\n",
    "numbers = [1,2,4,2,5,57,65,8,4,3,6]"
   ]
  },
  {
   "cell_type": "code",
   "execution_count": null,
   "id": "7a8d04a8",
   "metadata": {},
   "outputs": [
    {
     "data": {
      "text/plain": [
       "[2, 4, 2, 8, 4, 6]"
      ]
     },
     "execution_count": 62,
     "metadata": {},
     "output_type": "execute_result"
    }
   ],
   "source": [
    "list(filter(even_Check , numbers ))"
   ]
  },
  {
   "cell_type": "code",
   "execution_count": null,
   "id": "0eab0427",
   "metadata": {},
   "outputs": [
    {
     "data": {
      "text/plain": [
       "[57, 65, 8, 6]"
      ]
     },
     "execution_count": 63,
     "metadata": {},
     "output_type": "execute_result"
    }
   ],
   "source": [
    "list(filter(lambda x : x>5 , numbers))"
   ]
  },
  {
   "cell_type": "code",
   "execution_count": null,
   "id": "d5e54437",
   "metadata": {},
   "outputs": [
    {
     "data": {
      "text/plain": [
       "[{'name': 'shahbaz', 'age': 18}, {'name': 'ali', 'age': 63}]"
      ]
     },
     "execution_count": 64,
     "metadata": {},
     "output_type": "execute_result"
    }
   ],
   "source": [
    "dic1"
   ]
  },
  {
   "cell_type": "code",
   "execution_count": null,
   "id": "a460ba3f",
   "metadata": {},
   "outputs": [
    {
     "data": {
      "text/plain": [
       "[{'name': 'ali', 'age': 63}]"
      ]
     },
     "execution_count": 65,
     "metadata": {},
     "output_type": "execute_result"
    }
   ],
   "source": [
    "def age_great(people):\n",
    "    return people['age'] > 35\n",
    "list(filter(age_great , dic1))"
   ]
  },
  {
   "cell_type": "markdown",
   "id": "962737b6",
   "metadata": {},
   "source": [
    "#### Importing Modules in Python"
   ]
  },
  {
   "cell_type": "code",
   "execution_count": null,
   "id": "d48b4b18",
   "metadata": {},
   "outputs": [
    {
     "data": {
      "text/plain": [
       "3.141592653589793"
      ]
     },
     "execution_count": 1,
     "metadata": {},
     "output_type": "execute_result"
    }
   ],
   "source": [
    "import math as m\n",
    "m.pi"
   ]
  },
  {
   "cell_type": "code",
   "execution_count": null,
   "id": "65458897",
   "metadata": {},
   "outputs": [
    {
     "data": {
      "text/plain": [
       "np.float64(7.0)"
      ]
     },
     "execution_count": 71,
     "metadata": {},
     "output_type": "execute_result"
    }
   ],
   "source": [
    "import numpy as np\n",
    "np.sqrt(49)"
   ]
  },
  {
   "cell_type": "code",
   "execution_count": null,
   "id": "d1b1b48f",
   "metadata": {},
   "outputs": [],
   "source": [
    "import seaborn as sns"
   ]
  },
  {
   "cell_type": "code",
   "execution_count": null,
   "id": "74c4627e",
   "metadata": {},
   "outputs": [
    {
     "ename": "ImportError",
     "evalue": "cannot import name 'addition' from 'package.maths' (s:\\AI_AGENTS\\Python_N_Env\\Python_basics\\package\\maths.py)",
     "output_type": "error",
     "traceback": [
      "\u001b[31m---------------------------------------------------------------------------\u001b[39m",
      "\u001b[31mImportError\u001b[39m                               Traceback (most recent call last)",
      "\u001b[36mCell\u001b[39m\u001b[36m \u001b[39m\u001b[32mIn[11]\u001b[39m\u001b[32m, line 3\u001b[39m\n\u001b[32m      1\u001b[39m \u001b[38;5;28;01mimport\u001b[39;00m\u001b[38;5;250m \u001b[39m\u001b[34;01msys\u001b[39;00m\n\u001b[32m      2\u001b[39m sys.path.append(\u001b[33m'\u001b[39m\u001b[33ms:\u001b[39m\u001b[38;5;130;01m\\\\\u001b[39;00m\u001b[33mAI_AGENTS\u001b[39m\u001b[38;5;130;01m\\\\\u001b[39;00m\u001b[33mPython_N_Env\u001b[39m\u001b[38;5;130;01m\\\\\u001b[39;00m\u001b[33mPYTHON_BASICS\u001b[39m\u001b[33m'\u001b[39m)\n\u001b[32m----> \u001b[39m\u001b[32m3\u001b[39m \u001b[38;5;28;01mfrom\u001b[39;00m\u001b[38;5;250m \u001b[39m\u001b[34;01mpackage\u001b[39;00m\u001b[34;01m.\u001b[39;00m\u001b[34;01mmaths\u001b[39;00m\u001b[38;5;250m \u001b[39m\u001b[38;5;28;01mimport\u001b[39;00m addition\n\u001b[32m      4\u001b[39m \u001b[38;5;28mprint\u001b[39m(addition(\u001b[32m3\u001b[39m, \u001b[32m5\u001b[39m))\n",
      "\u001b[31mImportError\u001b[39m: cannot import name 'addition' from 'package.maths' (s:\\AI_AGENTS\\Python_N_Env\\Python_basics\\package\\maths.py)"
     ]
    }
   ],
   "source": [
    "import sys\n",
    "sys.path.append('s:\\\\AI_AGENTS\\\\Python_N_Env\\\\PYTHON_BASICS')\n",
    "from package.maths import addition\n",
    "print(addition(3, 5))\n"
   ]
  },
  {
   "cell_type": "code",
   "execution_count": null,
   "id": "441084f8",
   "metadata": {},
   "outputs": [],
   "source": [
    "from package import maths"
   ]
  },
  {
   "cell_type": "code",
   "execution_count": null,
   "id": "8895ba86",
   "metadata": {},
   "outputs": [
    {
     "ename": "AttributeError",
     "evalue": "module 'package.maths' has no attribute 'addition'",
     "output_type": "error",
     "traceback": [
      "\u001b[31m---------------------------------------------------------------------------\u001b[39m",
      "\u001b[31mAttributeError\u001b[39m                            Traceback (most recent call last)",
      "\u001b[36mCell\u001b[39m\u001b[36m \u001b[39m\u001b[32mIn[18]\u001b[39m\u001b[32m, line 1\u001b[39m\n\u001b[32m----> \u001b[39m\u001b[32m1\u001b[39m \u001b[43mmaths\u001b[49m\u001b[43m.\u001b[49m\u001b[43maddition\u001b[49m(\u001b[32m3\u001b[39m,\u001b[32m4\u001b[39m)\n",
      "\u001b[31mAttributeError\u001b[39m: module 'package.maths' has no attribute 'addition'"
     ]
    }
   ],
   "source": [
    "maths.addition(3,4)"
   ]
  },
  {
   "cell_type": "code",
   "execution_count": null,
   "id": "2e84b18e",
   "metadata": {},
   "outputs": [],
   "source": [
    "import sys\n",
    "sys.path.append('s:\\\\AI_AGENTS\\\\Python_N_Env\\\\PYTHON_BASICS')"
   ]
  },
  {
   "cell_type": "markdown",
   "id": "e388fa3e",
   "metadata": {},
   "source": [
    "## if `__init__` file present in particular folder then it makes that folder automatically package that we can import and work with "
   ]
  },
  {
   "cell_type": "markdown",
   "id": "28066998",
   "metadata": {},
   "source": [
    "# **`Standard Library Overview`**"
   ]
  },
  {
   "cell_type": "markdown",
   "id": "9b58cbdc",
   "metadata": {},
   "source": [
    "# **Array**"
   ]
  },
  {
   "cell_type": "code",
   "execution_count": null,
   "id": "ccd3c9cc",
   "metadata": {},
   "outputs": [],
   "source": [
    "import array\n",
    "arr = array.array('f' , [1,2,3,4])"
   ]
  },
  {
   "cell_type": "code",
   "execution_count": 24,
   "id": "0e115746",
   "metadata": {},
   "outputs": [
    {
     "data": {
      "text/plain": [
       "array('f', [1.0, 2.0, 3.0, 4.0])"
      ]
     },
     "execution_count": 24,
     "metadata": {},
     "output_type": "execute_result"
    }
   ],
   "source": [
    "arr"
   ]
  },
  {
   "cell_type": "code",
   "execution_count": 42,
   "id": "d98da432",
   "metadata": {},
   "outputs": [
    {
     "data": {
      "text/plain": [
       "10"
      ]
     },
     "execution_count": 42,
     "metadata": {},
     "output_type": "execute_result"
    }
   ],
   "source": [
    "### random \n",
    "import random as r\n",
    "r.randint(1,10)"
   ]
  },
  {
   "cell_type": "markdown",
   "id": "c5178b79",
   "metadata": {},
   "source": [
    "# **OS**"
   ]
  },
  {
   "cell_type": "code",
   "execution_count": 2,
   "id": "2e96a0d3",
   "metadata": {},
   "outputs": [
    {
     "name": "stdout",
     "output_type": "stream",
     "text": [
      "s:\\AI_AGENTS\\Python_N_Env\\Python_basics\n"
     ]
    }
   ],
   "source": [
    "import os\n",
    "import shutil\n",
    "print(os.getcwd())"
   ]
  },
  {
   "cell_type": "code",
   "execution_count": 44,
   "id": "2ee31c3e",
   "metadata": {},
   "outputs": [],
   "source": [
    "os.mkdir('new_folder')"
   ]
  },
  {
   "cell_type": "code",
   "execution_count": null,
   "id": "bbec9f8c",
   "metadata": {},
   "outputs": [
    {
     "data": {
      "text/plain": [
       "'dest.txt'"
      ]
     },
     "execution_count": 4,
     "metadata": {},
     "output_type": "execute_result"
    }
   ],
   "source": [
    "import os\n",
    "import shutil\n",
    "os.makedirs('new_folder', exist_ok=True)\n",
    "src_path = os.path.join('new_folder', 'src.txt')\n",
    "with open(src_path, 'w') as f:\n",
    "    f.write('this is the file that is gonna copy into destination file')\n",
    "shutil.copyfile(src_path, 'dest.txt')\n",
    "\n"
   ]
  },
  {
   "cell_type": "markdown",
   "id": "9e7bb54b",
   "metadata": {},
   "source": [
    "## **~Data Serialization~**"
   ]
  },
  {
   "cell_type": "code",
   "execution_count": 9,
   "id": "7364ebd3",
   "metadata": {},
   "outputs": [
    {
     "name": "stdout",
     "output_type": "stream",
     "text": [
      "<class 'str'>\n",
      "{'name': 'shahbaz', 'age': 18}\n",
      "<class 'dict'>\n"
     ]
    }
   ],
   "source": [
    "import json \n",
    "data = {'name' : 'shahbaz' , \"age\" : 18}\n",
    "json_str = json.dumps(data)\n",
    "print(type(json_str))\n",
    "\n",
    "parsed_dic = json.loads(json_str)\n",
    "print(parsed_dic)\n",
    "print(type(parsed_dic))"
   ]
  },
  {
   "cell_type": "markdown",
   "id": "fce9641a",
   "metadata": {},
   "source": [
    "## `CSV`"
   ]
  },
  {
   "cell_type": "code",
   "execution_count": 23,
   "id": "c5df7260",
   "metadata": {},
   "outputs": [
    {
     "name": "stdout",
     "output_type": "stream",
     "text": [
      "['name', 'age']\n",
      "['Shahbaz', '18']\n"
     ]
    }
   ],
   "source": [
    "import csv\n",
    "with open('example.csv' , mode='w' ,newline='') as file: # windows may insert extra blank lines so we write newline to tell that no addition of extra line will be tolerated\n",
    "    writer = csv.writer(file)\n",
    "    writer.writerow(['name' , 'age'])\n",
    "    writer.writerow(['Shahbaz' , 18])\n",
    "with open('example.csv' , mode = 'r') as file:\n",
    "    reader = csv.reader(file)\n",
    "    for row in reader:\n",
    "        print(row)"
   ]
  },
  {
   "cell_type": "markdown",
   "id": "d95c656d",
   "metadata": {},
   "source": [
    "## **dateTime**"
   ]
  },
  {
   "cell_type": "code",
   "execution_count": 18,
   "id": "6fc9981b",
   "metadata": {},
   "outputs": [
    {
     "data": {
      "text/plain": [
       "datetime.datetime(2025, 6, 25, 9, 55, 38, 86860)"
      ]
     },
     "execution_count": 18,
     "metadata": {},
     "output_type": "execute_result"
    }
   ],
   "source": [
    "from datetime import datetime , timedelta\n",
    "now = datetime.now()\n",
    "yesterday = now - timedelta(days = 2)\n",
    "yesterday"
   ]
  },
  {
   "cell_type": "code",
   "execution_count": 20,
   "id": "25a0bf6d",
   "metadata": {},
   "outputs": [
    {
     "name": "stdout",
     "output_type": "stream",
     "text": [
      "1751043392.7441995\n",
      "1751043395.7456975\n"
     ]
    }
   ],
   "source": [
    "import time \n",
    "print(time.time())\n",
    "time.sleep(3)\n",
    "print(time.time())"
   ]
  },
  {
   "cell_type": "code",
   "execution_count": 22,
   "id": "eee6b0fa",
   "metadata": {},
   "outputs": [
    {
     "name": "stdout",
     "output_type": "stream",
     "text": [
      "234\n"
     ]
    }
   ],
   "source": [
    "import re\n",
    "pattern = r'\\d+'\n",
    "text = 'there are 234 apples in the market 235'\n",
    "match = re.search(pattern , text)\n",
    "print(match.group())"
   ]
  },
  {
   "cell_type": "markdown",
   "id": "17f64db1",
   "metadata": {},
   "source": [
    "# **`File Handling And Operations`**"
   ]
  },
  {
   "cell_type": "code",
   "execution_count": 24,
   "id": "db23e23c",
   "metadata": {},
   "outputs": [],
   "source": [
    "### Working with binary file \n",
    "data = b'\\x00\\x01\\x02\\x03'\n",
    "with open('exp.bin' , 'wb') as f:\n",
    "    f.write(data)\n",
    "    "
   ]
  },
  {
   "cell_type": "code",
   "execution_count": 25,
   "id": "efb65c05",
   "metadata": {},
   "outputs": [
    {
     "name": "stdout",
     "output_type": "stream",
     "text": [
      "b'\\x00\\x01\\x02\\x03'\n"
     ]
    }
   ],
   "source": [
    "with open('exp.bin' , 'rb') as f:\n",
    "    content = f.read()\n",
    "    print(content)"
   ]
  },
  {
   "cell_type": "code",
   "execution_count": 29,
   "id": "9015e13b",
   "metadata": {},
   "outputs": [],
   "source": [
    "with open('sample.txt' , 'r') as f:\n",
    "    lines = f.readlines()"
   ]
  },
  {
   "cell_type": "code",
   "execution_count": 31,
   "id": "6747e468",
   "metadata": {},
   "outputs": [
    {
     "data": {
      "text/plain": [
       "[54, 34, 30, 13, 12]"
      ]
     },
     "execution_count": 31,
     "metadata": {},
     "output_type": "execute_result"
    }
   ],
   "source": [
    "[len(line) for line in lines]"
   ]
  },
  {
   "cell_type": "code",
   "execution_count": null,
   "id": "09aeb1ec",
   "metadata": {},
   "outputs": [],
   "source": [
    "words = [len(line.split()) for line in lines]"
   ]
  },
  {
   "cell_type": "code",
   "execution_count": 35,
   "id": "4b54379e",
   "metadata": {},
   "outputs": [
    {
     "data": {
      "text/plain": [
       "[11, 8, 6, 2, 2]"
      ]
     },
     "execution_count": 35,
     "metadata": {},
     "output_type": "execute_result"
    }
   ],
   "source": [
    "words"
   ]
  },
  {
   "cell_type": "code",
   "execution_count": 36,
   "id": "ed944a1d",
   "metadata": {},
   "outputs": [
    {
     "data": {
      "text/plain": [
       "['this is the file that !@ have created for word count \\n',\n",
       " 'now you job is to count the words\\n',\n",
       " 'this is another line for fun \\n',\n",
       " 'yet anohter \\n',\n",
       " 'last another']"
      ]
     },
     "execution_count": 36,
     "metadata": {},
     "output_type": "execute_result"
    }
   ],
   "source": [
    "lines"
   ]
  },
  {
   "cell_type": "code",
   "execution_count": null,
   "id": "199326d4",
   "metadata": {},
   "outputs": [
    {
     "name": "stdout",
     "output_type": "stream",
     "text": [
      "hello world this is a new text\n",
      "Hello this is another new line \n"
     ]
    }
   ],
   "source": [
    "with open('example.txt' , 'w+') as f:\n",
    "    f.write(\"hello world this is a new text\\n\")\n",
    "    f.write('Hello this is another new line ')\n",
    "    f.seek(0) # for moving the pointer to the beginning of the file\n",
    "    content = f.read()\n",
    "    print(content)\n",
    "    "
   ]
  },
  {
   "cell_type": "code",
   "execution_count": null,
   "id": "4a86eba1",
   "metadata": {},
   "outputs": [],
   "source": [
    "### create a new directory\n",
    "import os\n",
    "new_dir = 'pakkage'\n",
    "os.mkdir(new_dir)\n",
    "print(f'Directory {new_dir} created')"
   ]
  },
  {
   "cell_type": "code",
   "execution_count": 3,
   "id": "a9c41479",
   "metadata": {},
   "outputs": [
    {
     "name": "stdout",
     "output_type": "stream",
     "text": [
      "['basics.ipynb', 'dest.txt', 'example.csv', 'example.txt', 'exp.bin', 'new_folder', 'package', 'pakkage', 'requirements.txt', 'sample.txt', 'test.py', 'venv']\n"
     ]
    }
   ],
   "source": [
    "items = os.listdir('.') # . means we are specifically working for the current directory \n",
    "print(items)"
   ]
  },
  {
   "cell_type": "code",
   "execution_count": 13,
   "id": "a39fc0ea",
   "metadata": {},
   "outputs": [
    {
     "name": "stdout",
     "output_type": "stream",
     "text": [
      "this file exist now what you gonna do\n"
     ]
    }
   ],
   "source": [
    "path = 'example.txt'\n",
    "if os.path.exists(path):\n",
    "    print('this file exist now what you gonna do')\n",
    "else:\n",
    "    print('this file does not exist')"
   ]
  },
  {
   "cell_type": "code",
   "execution_count": 14,
   "id": "32e81d58",
   "metadata": {},
   "outputs": [
    {
     "name": "stdout",
     "output_type": "stream",
     "text": [
      "this path is file\n"
     ]
    }
   ],
   "source": [
    "if os.path.isfile(path):\n",
    "    print('this path is file')\n",
    "elif os.path.isdir(path):\n",
    "    print('this path is directory')\n",
    "else:\n",
    "    print('this is nothing ')"
   ]
  },
  {
   "cell_type": "markdown",
   "id": "131647c1",
   "metadata": {},
   "source": [
    "`Relative path is something which is related to the particular directory in which you are working while absolute path is something which is complete path of file in the system`"
   ]
  },
  {
   "cell_type": "code",
   "execution_count": 15,
   "id": "835efeee",
   "metadata": {},
   "outputs": [
    {
     "name": "stdout",
     "output_type": "stream",
     "text": [
      "s:\\AI_AGENTS\\Python_N_Env\\Python_basics\\example.txt\n"
     ]
    }
   ],
   "source": [
    "relative_path = 'example.txt'\n",
    "abs_path = os.path.abspath(relative_path)\n",
    "print(abs_path)"
   ]
  },
  {
   "cell_type": "code",
   "execution_count": null,
   "id": "96f9b066",
   "metadata": {},
   "outputs": [
    {
     "name": "stdout",
     "output_type": "stream",
     "text": [
      "s:\\AI_AGENTS\\Python_N_Env\\Python_basics\\example.txt\n"
     ]
    }
   ],
   "source": [
    "print(os.getcwd() + r'\\example.txt') # r here is representing raw string or text"
   ]
  },
  {
   "cell_type": "markdown",
   "id": "46387a14",
   "metadata": {},
   "source": [
    "## **Exception Handling**"
   ]
  },
  {
   "cell_type": "code",
   "execution_count": null,
   "id": "aebb7cac",
   "metadata": {},
   "outputs": [
    {
     "name": "stdout",
     "output_type": "stream",
     "text": [
      "The error is : name 'prints' is not defined\n"
     ]
    }
   ],
   "source": [
    "try:\n",
    "    print('hello')\n",
    "except NameError as e:\n",
    "    print(f'The error is : {e}')"
   ]
  },
  {
   "cell_type": "code",
   "execution_count": 2,
   "id": "92abb1ae",
   "metadata": {},
   "outputs": [
    {
     "name": "stdout",
     "output_type": "stream",
     "text": [
      "hello\n",
      "no error occured\n"
     ]
    }
   ],
   "source": [
    "### try , except and else block\n",
    "###### else block will execute when statements inside the try block computed sucessfully and no exception is raised by execpt block \n",
    "try:\n",
    "    print('hello')\n",
    "except:\n",
    "    print(\"Error\")\n",
    "else:\n",
    "    print('no error occured')"
   ]
  },
  {
   "cell_type": "markdown",
   "id": "1a16d55b",
   "metadata": {},
   "source": [
    "### Finally come in the last and it will always be executed no matter if exception raised or not whether error occured or not it will execute\n",
    "#### we can basically used FINALLY statement particularly when we are working with Databases because whether error occured or not we have to close the connection with databases so we used close statement in finally block\n"
   ]
  },
  {
   "cell_type": "code",
   "execution_count": 3,
   "id": "7e31b2d8",
   "metadata": {},
   "outputs": [
    {
     "data": {
      "text/plain": [
       "{'__name__': '__main__',\n",
       " '__doc__': 'Automatically created module for IPython interactive environment',\n",
       " '__package__': None,\n",
       " '__loader__': None,\n",
       " '__spec__': None,\n",
       " '__builtin__': <module 'builtins' (built-in)>,\n",
       " '__builtins__': <module 'builtins' (built-in)>,\n",
       " '_ih': ['',\n",
       "  '### try , except and else block\\n###### else block will execute when statements inside the try block computed sucessfully and no exception is raised by execpt block \\ntry:\\n    print(\\'hello\\')\\nexcept:\\n    print(\"Error\")\\nelse:',\n",
       "  '### try , except and else block\\n###### else block will execute when statements inside the try block computed sucessfully and no exception is raised by execpt block \\ntry:\\n    print(\\'hello\\')\\nexcept:\\n    print(\"Error\")\\nelse:\\n    print(\\'no error occured\\')',\n",
       "  'locals()'],\n",
       " '_oh': {},\n",
       " '_dh': [WindowsPath('s:/AI_AGENTS/Python_N_Env/Python_basics')],\n",
       " 'In': ['',\n",
       "  '### try , except and else block\\n###### else block will execute when statements inside the try block computed sucessfully and no exception is raised by execpt block \\ntry:\\n    print(\\'hello\\')\\nexcept:\\n    print(\"Error\")\\nelse:',\n",
       "  '### try , except and else block\\n###### else block will execute when statements inside the try block computed sucessfully and no exception is raised by execpt block \\ntry:\\n    print(\\'hello\\')\\nexcept:\\n    print(\"Error\")\\nelse:\\n    print(\\'no error occured\\')',\n",
       "  'locals()'],\n",
       " 'Out': {},\n",
       " 'get_ipython': <bound method InteractiveShell.get_ipython of <ipykernel.zmqshell.ZMQInteractiveShell object at 0x00000245E1C29310>>,\n",
       " 'exit': <IPython.core.autocall.ZMQExitAutocall at 0x245e1f045c0>,\n",
       " 'quit': <IPython.core.autocall.ZMQExitAutocall at 0x245e1f045c0>,\n",
       " 'open': <function _io.open(file, mode='r', buffering=-1, encoding=None, errors=None, newline=None, closefd=True, opener=None)>,\n",
       " '_': '',\n",
       " '__': '',\n",
       " '___': '',\n",
       " '__vsc_ipynb_file__': 's:\\\\AI_AGENTS\\\\Python_N_Env\\\\Python_basics\\\\basics.ipynb',\n",
       " '_i': '### try , except and else block\\n###### else block will execute when statements inside the try block computed sucessfully and no exception is raised by execpt block \\ntry:\\n    print(\\'hello\\')\\nexcept:\\n    print(\"Error\")\\nelse:\\n    print(\\'no error occured\\')',\n",
       " '_ii': '### try , except and else block\\n###### else block will execute when statements inside the try block computed sucessfully and no exception is raised by execpt block \\ntry:\\n    print(\\'hello\\')\\nexcept:\\n    print(\"Error\")\\nelse:',\n",
       " '_iii': '',\n",
       " '_i1': '### try , except and else block\\n###### else block will execute when statements inside the try block computed sucessfully and no exception is raised by execpt block \\ntry:\\n    print(\\'hello\\')\\nexcept:\\n    print(\"Error\")\\nelse:',\n",
       " '_i2': '### try , except and else block\\n###### else block will execute when statements inside the try block computed sucessfully and no exception is raised by execpt block \\ntry:\\n    print(\\'hello\\')\\nexcept:\\n    print(\"Error\")\\nelse:\\n    print(\\'no error occured\\')',\n",
       " '_i3': 'locals()'}"
      ]
     },
     "execution_count": 3,
     "metadata": {},
     "output_type": "execute_result"
    }
   ],
   "source": [
    "locals()"
   ]
  },
  {
   "cell_type": "code",
   "execution_count": 7,
   "id": "2868dc40",
   "metadata": {},
   "outputs": [
    {
     "name": "stdout",
     "output_type": "stream",
     "text": [
      "{'a': 12, 'b': 45}\n",
      "True\n"
     ]
    }
   ],
   "source": [
    "def funct():\n",
    "    a = 12\n",
    "    b = 45\n",
    "    print(locals())\n",
    "funct()  ### so locals returns the dictionary mentioning all the variables that are defined within the given scope of function or any block of code\n",
    "a = 23\n",
    "print('a' in locals())"
   ]
  },
  {
   "cell_type": "code",
   "execution_count": 10,
   "id": "0709e54d",
   "metadata": {},
   "outputs": [
    {
     "name": "stdout",
     "output_type": "stream",
     "text": [
      "hello world this is a new text\n",
      "Hello this is another new line \n"
     ]
    },
    {
     "ename": "TypeError",
     "evalue": "'bool' object is not callable",
     "output_type": "error",
     "traceback": [
      "\u001b[31m---------------------------------------------------------------------------\u001b[39m",
      "\u001b[31mTypeError\u001b[39m                                 Traceback (most recent call last)",
      "\u001b[36mCell\u001b[39m\u001b[36m \u001b[39m\u001b[32mIn[10]\u001b[39m\u001b[32m, line 8\u001b[39m\n\u001b[32m      6\u001b[39m     \u001b[38;5;28mprint\u001b[39m(\u001b[33m\"\u001b[39m\u001b[33mFile does not exist\u001b[39m\u001b[33m\"\u001b[39m)\n\u001b[32m      7\u001b[39m \u001b[38;5;28;01mfinally\u001b[39;00m:\n\u001b[32m----> \u001b[39m\u001b[32m8\u001b[39m     \u001b[38;5;28;01mif\u001b[39;00m \u001b[33m'\u001b[39m\u001b[33mfile\u001b[39m\u001b[33m'\u001b[39m \u001b[38;5;129;01min\u001b[39;00m \u001b[38;5;28mlocals\u001b[39m() \u001b[38;5;129;01mand\u001b[39;00m \u001b[38;5;129;01mnot\u001b[39;00m \u001b[43mfile\u001b[49m\u001b[43m.\u001b[49m\u001b[43mclosed\u001b[49m\u001b[43m(\u001b[49m\u001b[43m)\u001b[49m:\n\u001b[32m      9\u001b[39m         file.close()\n\u001b[32m     10\u001b[39m         \u001b[38;5;28mprint\u001b[39m(\u001b[33m\"\u001b[39m\u001b[33mfile is closed\u001b[39m\u001b[33m\"\u001b[39m)\n",
      "\u001b[31mTypeError\u001b[39m: 'bool' object is not callable"
     ]
    }
   ],
   "source": [
    "try :\n",
    "    file = open('example.txt' , 'r')\n",
    "    content = file.read()\n",
    "    print(content)\n",
    "except FileNotFoundError :\n",
    "    print(\"File does not exist\")\n",
    "finally:\n",
    "    if 'file' in locals() and not file.closed():\n",
    "        file.close()\n",
    "        print(\"file is closed\")"
   ]
  },
  {
   "cell_type": "markdown",
   "id": "cb11cb08",
   "metadata": {},
   "source": [
    "# <code>**OOPS**</code>"
   ]
  },
  {
   "cell_type": "code",
   "execution_count": null,
   "id": "e502c4b2",
   "metadata": {},
   "outputs": [],
   "source": [
    "class dog():\n",
    "    def __init__(self , name , age):\n",
    "        self.name = name # these are known as instance variable\n",
    "        self.age = age\n",
    "    def bark(self):\n",
    "        print(f'{self.name} says woof')\n",
    "dog1 = dog('lucy' , 1.5)"
   ]
  },
  {
   "cell_type": "code",
   "execution_count": 16,
   "id": "21e043c6",
   "metadata": {},
   "outputs": [
    {
     "name": "stdout",
     "output_type": "stream",
     "text": [
      "lucy\n"
     ]
    }
   ],
   "source": [
    "print(dog1.name)"
   ]
  },
  {
   "cell_type": "code",
   "execution_count": 17,
   "id": "c957abcb",
   "metadata": {},
   "outputs": [
    {
     "name": "stdout",
     "output_type": "stream",
     "text": [
      "lucy says woof\n"
     ]
    }
   ],
   "source": [
    "dog1.bark()"
   ]
  },
  {
   "cell_type": "code",
   "execution_count": null,
   "id": "299dc19c",
   "metadata": {},
   "outputs": [],
   "source": [
    "#### Modeling the Bank Account\n",
    "class BankAccount():\n",
    "    def __init__(self , owner , balance = 0):\n",
    "        self.owner = owner \n",
    "        self.balance = balance  # these are instance variables\n",
    "    def deposit(self, amount):\n",
    "        self.balance += amount\n",
    "        print(f\"{amount} is added to your account\")\n",
    "    def withdraw(self , amount): # these are instance methods\n",
    "        if amount > self.balance:\n",
    "            print(\"Insufficient Balance\")\n",
    "        else:\n",
    "            self.balance -= amount\n",
    "            print(f'{amount} is withdrawal from your account')\n",
    "    def get_info(self):\n",
    "        print(f\"Current Balance is {self.balance}\")\n",
    "o1 = BankAccount('Shahbaz' , 4000)"
   ]
  },
  {
   "cell_type": "code",
   "execution_count": 28,
   "id": "30ca03ac",
   "metadata": {},
   "outputs": [
    {
     "name": "stdout",
     "output_type": "stream",
     "text": [
      "Current Balance is 4000\n",
      "Insufficient Balance\n",
      "1000 is withdrawal from your account\n",
      "Current Balance is 3000\n",
      "10000 is added to your account\n",
      "Current Balance is 13000\n"
     ]
    }
   ],
   "source": [
    "o1.get_info()\n",
    "o1.withdraw(4500)\n",
    "o1.withdraw(1000)\n",
    "o1.get_info()\n",
    "o1.deposit(10000)\n",
    "o1.get_info()"
   ]
  },
  {
   "cell_type": "markdown",
   "id": "793a6efc",
   "metadata": {},
   "source": [
    "## **Inheritance in OOPs**"
   ]
  },
  {
   "cell_type": "markdown",
   "id": "2c2a8ec5",
   "metadata": {},
   "source": [
    "### single inheritance and Multiple Inheritance"
   ]
  },
  {
   "cell_type": "code",
   "execution_count": 31,
   "id": "8d7b8503",
   "metadata": {},
   "outputs": [],
   "source": [
    "class Car():\n",
    "    def __init__(self , windows , doors , engine_type):\n",
    "        self.windows = windows \n",
    "        self.doors = doors\n",
    "        self.engine_type = engine_type\n",
    "    def drive(self):\n",
    "        print(f'Driver is driving {self.engine_type} car')\n",
    "car = Car(4,5,'diesel')"
   ]
  },
  {
   "cell_type": "code",
   "execution_count": 32,
   "id": "784fd097",
   "metadata": {},
   "outputs": [
    {
     "name": "stdout",
     "output_type": "stream",
     "text": [
      "Driver is driving diesel car\n"
     ]
    }
   ],
   "source": [
    "car.drive()"
   ]
  },
  {
   "cell_type": "code",
   "execution_count": 33,
   "id": "178f55eb",
   "metadata": {},
   "outputs": [],
   "source": [
    "class Tesla(Car):\n",
    "    def __init__(self , windows , doors , engine_type , is_selfdriving):\n",
    "        super().__init__(windows , doors , engine_type)\n",
    "        self.is_selfdriving = is_selfdriving\n",
    "    def selfdrive(self):\n",
    "        print(f\"Your Tesla supports self-Drive --> {self.is_selfdriving}\")"
   ]
  },
  {
   "cell_type": "code",
   "execution_count": 34,
   "id": "e813c241",
   "metadata": {},
   "outputs": [],
   "source": [
    "x = Tesla(4,5,'electric' , True)"
   ]
  },
  {
   "cell_type": "code",
   "execution_count": 35,
   "id": "3c3fa5b0",
   "metadata": {},
   "outputs": [
    {
     "name": "stdout",
     "output_type": "stream",
     "text": [
      "Your Tesla supports self-Drive --> True\n"
     ]
    }
   ],
   "source": [
    "x.selfdrive()"
   ]
  },
  {
   "cell_type": "code",
   "execution_count": 37,
   "id": "bc692b77",
   "metadata": {},
   "outputs": [
    {
     "name": "stdout",
     "output_type": "stream",
     "text": [
      "Driver is driving electric car\n"
     ]
    }
   ],
   "source": [
    "x.engine_type\n",
    "x.drive()"
   ]
  },
  {
   "cell_type": "markdown",
   "id": "14da33c7",
   "metadata": {},
   "source": [
    "### Multiple Inheritance\n",
    "#### When class inherit from one or more than one base class"
   ]
  },
  {
   "cell_type": "code",
   "execution_count": 10,
   "id": "ee550187",
   "metadata": {},
   "outputs": [],
   "source": [
    "class Animal:\n",
    "    def __init__(self , name):\n",
    "        self.name = name \n",
    "class Pet :\n",
    "    def __init__(self , owner):\n",
    "        self.owner = owner\n",
    "class Dog(Animal , Pet):\n",
    "    def __init__(self , name , owner):\n",
    "        Animal.__init__(self , name)\n",
    "        Pet.__init__(self , owner)\n",
    "    def speak(self):\n",
    "        print(f'{self.name} says Woof !!!')"
   ]
  },
  {
   "cell_type": "code",
   "execution_count": 11,
   "id": "6758e883",
   "metadata": {},
   "outputs": [],
   "source": [
    "dog = Dog('Lucy' , 'Jack')"
   ]
  },
  {
   "cell_type": "code",
   "execution_count": 12,
   "id": "3bb1ef99",
   "metadata": {},
   "outputs": [
    {
     "name": "stdout",
     "output_type": "stream",
     "text": [
      "Lucy says Woof !!!\n",
      "None\n"
     ]
    }
   ],
   "source": [
    "print(dog.speak())"
   ]
  },
  {
   "cell_type": "code",
   "execution_count": 14,
   "id": "e862d7ff",
   "metadata": {},
   "outputs": [
    {
     "data": {
      "text/plain": [
       "'Lucy'"
      ]
     },
     "execution_count": 14,
     "metadata": {},
     "output_type": "execute_result"
    }
   ],
   "source": [
    "dog.name"
   ]
  },
  {
   "cell_type": "markdown",
   "id": "0c4860d9",
   "metadata": {},
   "source": [
    "# **Polymorphism**"
   ]
  },
  {
   "cell_type": "code",
   "execution_count": null,
   "id": "e62ace8e",
   "metadata": {},
   "outputs": [
    {
     "name": "stdout",
     "output_type": "stream",
     "text": [
      "Area --> 9.42\n",
      "Area --> 20\n"
     ]
    }
   ],
   "source": [
    "class Shape():\n",
    "    def area(self):\n",
    "        return \"the area of shape\"\n",
    "    \n",
    "class Rectangle(Shape): ### this is where we are implementing the whole concept of polymorphism\n",
    "    def __init__(self , length , width):\n",
    "        self.width = width\n",
    "        self.length = length\n",
    "\n",
    "    def area(self):\n",
    "        return self.length * self.width\n",
    "    \n",
    "class Circle(Shape): ### this is where we are implementing the whole concept of polymorphism\n",
    "\n",
    "    def __init__(self , radius):\n",
    "        self.radius = radius\n",
    "\n",
    "    def area(self):\n",
    "        return 3.14 * self.radius\n",
    "    \n",
    "def print_area(shape):\n",
    "    print(f\"Area --> {shape.area()}\")\n",
    "\n",
    "c = Circle(3)\n",
    "r = Rectangle(4,5)\n",
    "\n",
    "print_area(c)\n",
    "print_area(r)"
   ]
  },
  {
   "cell_type": "markdown",
   "id": "f179cbb8",
   "metadata": {},
   "source": [
    "### **Polymorphism Through interfaces**"
   ]
  },
  {
   "cell_type": "code",
   "execution_count": 16,
   "id": "e5e1a211",
   "metadata": {},
   "outputs": [],
   "source": [
    "### polymorphism with abstract base classes\n",
    "#### Define common methods for the group of related objects\n",
    "\n",
    "from abc import ABC , abstractmethod\n",
    "class Vehicle(ABC):\n",
    "    @abstractmethod\n",
    "    def start_engine(self):\n",
    "        pass ## no definition or instantiation just provide the blueprint for the derived classes \n",
    "\n",
    "class Car(Vehicle):\n",
    "    def start_engine(self):\n",
    "        return \"Car is started\"\n",
    "    \n",
    "class Bike(Vehicle):\n",
    "    def start_engine(self):\n",
    "        return \"Bike is started\"\n",
    "    \n",
    "def print_info(vehicle):\n",
    "    print(f'{vehicle.start_engine()}')\n"
   ]
  },
  {
   "cell_type": "code",
   "execution_count": 18,
   "id": "b22aa8f3",
   "metadata": {},
   "outputs": [
    {
     "name": "stdout",
     "output_type": "stream",
     "text": [
      "Car is started\n",
      "Bike is started\n"
     ]
    }
   ],
   "source": [
    "c = Car()\n",
    "print_info(c)\n",
    "b = Bike()\n",
    "print_info(b)"
   ]
  },
  {
   "cell_type": "markdown",
   "id": "ebc5582b",
   "metadata": {},
   "source": [
    "# **Encapsulation**"
   ]
  },
  {
   "cell_type": "code",
   "execution_count": null,
   "id": "ee029051",
   "metadata": {},
   "outputs": [],
   "source": [
    "### public and private protected variable\n",
    "class Person:\n",
    "    def __init__(self , name , age):\n",
    "        self.name = name  ## Public Variable\n",
    "        self.age = age   ## Public Variable because people can access these variables easily\n",
    "\n",
    "p = Person('shahbaz' , 18)"
   ]
  },
  {
   "cell_type": "code",
   "execution_count": 4,
   "id": "1f5d24e8",
   "metadata": {},
   "outputs": [
    {
     "name": "stdout",
     "output_type": "stream",
     "text": [
      "shahbaz\n"
     ]
    }
   ],
   "source": [
    "print(p.name)"
   ]
  },
  {
   "cell_type": "code",
   "execution_count": 5,
   "id": "107e2e2c",
   "metadata": {},
   "outputs": [
    {
     "data": {
      "text/plain": [
       "['__class__',\n",
       " '__delattr__',\n",
       " '__dict__',\n",
       " '__dir__',\n",
       " '__doc__',\n",
       " '__eq__',\n",
       " '__format__',\n",
       " '__ge__',\n",
       " '__getattribute__',\n",
       " '__getstate__',\n",
       " '__gt__',\n",
       " '__hash__',\n",
       " '__init__',\n",
       " '__init_subclass__',\n",
       " '__le__',\n",
       " '__lt__',\n",
       " '__module__',\n",
       " '__ne__',\n",
       " '__new__',\n",
       " '__reduce__',\n",
       " '__reduce_ex__',\n",
       " '__repr__',\n",
       " '__setattr__',\n",
       " '__sizeof__',\n",
       " '__str__',\n",
       " '__subclasshook__',\n",
       " '__weakref__',\n",
       " 'age',\n",
       " 'name']"
      ]
     },
     "execution_count": 5,
     "metadata": {},
     "output_type": "execute_result"
    }
   ],
   "source": [
    "dir(p)"
   ]
  },
  {
   "cell_type": "code",
   "execution_count": null,
   "id": "ee42981e",
   "metadata": {},
   "outputs": [
    {
     "name": "stdout",
     "output_type": "stream",
     "text": [
      "shahbaz\n"
     ]
    }
   ],
   "source": [
    "### public and private protected variable\n",
    "class Person:\n",
    "    def __init__(self , name , age , gender):\n",
    "        self.__name = name  ## Private Variable\n",
    "        self.__age = age   ## Private \n",
    "        self.gender = gender\n",
    "\n",
    "def print_name(person):\n",
    "    return person._Person__name   # i breach the data\n",
    "\n",
    "p = Person('shahbaz' , 18 , 'male')\n",
    "print(print_name(p))"
   ]
  },
  {
   "cell_type": "code",
   "execution_count": 7,
   "id": "5cc72332",
   "metadata": {},
   "outputs": [
    {
     "data": {
      "text/plain": [
       "['_Person__age',\n",
       " '_Person__name',\n",
       " '__class__',\n",
       " '__delattr__',\n",
       " '__dict__',\n",
       " '__dir__',\n",
       " '__doc__',\n",
       " '__eq__',\n",
       " '__format__',\n",
       " '__ge__',\n",
       " '__getattribute__',\n",
       " '__getstate__',\n",
       " '__gt__',\n",
       " '__hash__',\n",
       " '__init__',\n",
       " '__init_subclass__',\n",
       " '__le__',\n",
       " '__lt__',\n",
       " '__module__',\n",
       " '__ne__',\n",
       " '__new__',\n",
       " '__reduce__',\n",
       " '__reduce_ex__',\n",
       " '__repr__',\n",
       " '__setattr__',\n",
       " '__sizeof__',\n",
       " '__str__',\n",
       " '__subclasshook__',\n",
       " '__weakref__']"
      ]
     },
     "execution_count": 7,
     "metadata": {},
     "output_type": "execute_result"
    }
   ],
   "source": [
    "dir(p)"
   ]
  },
  {
   "cell_type": "markdown",
   "id": "759a3daf",
   "metadata": {},
   "source": [
    " #### protected variables can be printed out using derived class but directly printing these variables from base class is not possible (actually it is possible because everything in python is public so it is just the norm for other developer to not to use these variables outside the class or subclass and treat it as secret(protected) way)"
   ]
  },
  {
   "cell_type": "code",
   "execution_count": null,
   "id": "894d644f",
   "metadata": {},
   "outputs": [
    {
     "name": "stdout",
     "output_type": "stream",
     "text": [
      "jack\n",
      "shahbaz\n"
     ]
    }
   ],
   "source": [
    "### public and private protected variable\n",
    "class Person:\n",
    "    def __init__(self , name , age , gender):\n",
    "        self._name = name  ## Protected Variable\n",
    "        self._age = age   ## Protected \n",
    "        self.gender = gender\n",
    "\n",
    "class Employee(Person):               \n",
    "    def __init__(self , name , age , gender):\n",
    "        super().__init__(name , age , gender)\n",
    "\n",
    "p = Person('jack' , 32 , 'male')\n",
    "print(p._name)\n",
    "e = Employee('shahbaz' , 18 , 'male')\n",
    "print(e._name)\n"
   ]
  },
  {
   "cell_type": "markdown",
   "id": "34a0f269",
   "metadata": {},
   "source": [
    "## Encapsulation using Getter and Setter"
   ]
  },
  {
   "cell_type": "code",
   "execution_count": 18,
   "id": "a6cf468e",
   "metadata": {},
   "outputs": [
    {
     "name": "stdout",
     "output_type": "stream",
     "text": [
      "shahbaz\n",
      "ali\n"
     ]
    }
   ],
   "source": [
    "### public and private protected variable\n",
    "class Person:\n",
    "    def __init__(self , name , age , gender):\n",
    "        self.__name = name  ## Private Variable\n",
    "        self.__age = age   ## Private \n",
    "        self.gender = gender\n",
    "\n",
    "    ## Getter method\n",
    "    def get_name(self):\n",
    "        return self.__name\n",
    "    \n",
    "    ## Setter Method basically used for changing the value of private variable\n",
    "    def set_name(self , name ):\n",
    "        self.__name = name\n",
    "\n",
    " \n",
    "\n",
    "p = Person('shahbaz' , 18 , 'male')\n",
    "print(p.get_name())\n",
    "p.set_name('ali')\n",
    "print(p.get_name())"
   ]
  },
  {
   "cell_type": "markdown",
   "id": "3bfd73f7",
   "metadata": {},
   "source": [
    "# **Abstraction**"
   ]
  },
  {
   "cell_type": "markdown",
   "id": "e9976cad",
   "metadata": {},
   "source": [
    "## hiding complex implementation details and showing only the necessary features in an object"
   ]
  },
  {
   "cell_type": "code",
   "execution_count": 21,
   "id": "d950ac32",
   "metadata": {},
   "outputs": [
    {
     "name": "stdout",
     "output_type": "stream",
     "text": [
      "car engine is got started\n",
      "The car is used for driving purpose\n"
     ]
    }
   ],
   "source": [
    "from abc import ABC , abstractmethod\n",
    "class Vehicle(ABC):\n",
    "    def drive(self):\n",
    "        print(\"The car is used for driving purpose\")\n",
    "\n",
    "    @abstractmethod\n",
    "    def start_engine(self):\n",
    "        pass ## just providing the blueprint and let the derived implement its own features using this blueprint\n",
    "class Car(Vehicle):\n",
    "    def start_engine(self):\n",
    "        print(\"car engine is got started\")\n",
    "\n",
    "\n",
    "c = Car()\n",
    "c.start_engine()\n",
    "c.drive()"
   ]
  },
  {
   "cell_type": "markdown",
   "id": "a150b89e",
   "metadata": {},
   "source": [
    "# **`Magic Methods`**"
   ]
  },
  {
   "cell_type": "markdown",
   "id": "e518169d",
   "metadata": {},
   "source": [
    "## these methods enables you to define the behaviour of your objects for built in operations such as arithmetic operation and comparisons e.t.c"
   ]
  },
  {
   "cell_type": "code",
   "execution_count": 24,
   "id": "7aa8057c",
   "metadata": {},
   "outputs": [
    {
     "name": "stdout",
     "output_type": "stream",
     "text": [
      "<__main__.Person object at 0x000002047B28C6E0>\n"
     ]
    }
   ],
   "source": [
    "class Person():\n",
    "    def __init__(self , name , age):\n",
    "        self.name = name \n",
    "        self.age = age\n",
    "\n",
    "\n",
    "p = Person('shahbaz' , 18)\n",
    "print(p)     ### this memory address is printing due to __str__ this constructor"
   ]
  },
  {
   "cell_type": "code",
   "execution_count": 26,
   "id": "0a4e0adf",
   "metadata": {},
   "outputs": [
    {
     "name": "stdout",
     "output_type": "stream",
     "text": [
      "now this will not print anything\n",
      "i have changed this using magic method\n"
     ]
    }
   ],
   "source": [
    "class Person():\n",
    "    def __init__(self , name , age):\n",
    "        self.name = name \n",
    "        self.age = age\n",
    "    def __str__(self):\n",
    "        return 'now this will not print anything'\n",
    "    \n",
    "    def __repr__(self):\n",
    "        return \"i have changed this using magic method\"\n",
    "\n",
    "p = Person('shahbaz' , 18)\n",
    "print(p)\n",
    "print(repr(p))"
   ]
  },
  {
   "cell_type": "markdown",
   "id": "d1bd4c21",
   "metadata": {},
   "source": [
    "# **Operator Overloading**"
   ]
  },
  {
   "cell_type": "code",
   "execution_count": 11,
   "id": "cd065330",
   "metadata": {},
   "outputs": [],
   "source": [
    "class Vector:\n",
    "    def __init__ (self , x , y):\n",
    "        self.x = x\n",
    "        self.y = y\n",
    "    def __add__(self , other):\n",
    "        return Vector(self.x + other.x , self.y + other.y)\n",
    "    def __sub__(self , other):\n",
    "        return Vector(self.x - other.x , self.y - other.y)\n",
    "    def __repr__(self):\n",
    "        return f\"Vector({self.x} , {self.y})\"\n",
    "    \n",
    "    ####### so i modify the fucntionality of addition for vector addition"
   ]
  },
  {
   "cell_type": "code",
   "execution_count": 12,
   "id": "d12d5c5d",
   "metadata": {},
   "outputs": [],
   "source": [
    "v1 = Vector(12 , 13)\n",
    "v2 = Vector(2 , 4)"
   ]
  },
  {
   "cell_type": "code",
   "execution_count": 13,
   "id": "8d0ef5c8",
   "metadata": {},
   "outputs": [
    {
     "name": "stdout",
     "output_type": "stream",
     "text": [
      "Vector(14 , 17)\n",
      "Vector(10 , 9)\n"
     ]
    }
   ],
   "source": [
    "print(v1 + v2)\n",
    "print(v1 - v2)"
   ]
  },
  {
   "cell_type": "code",
   "execution_count": null,
   "id": "3120bfb7",
   "metadata": {},
   "outputs": [],
   "source": [
    "### Overloading Operators for Complex Numbers\n",
    "\n",
    "class ComplexNumber:\n",
    "    def __init__(self, real, imag):\n",
    "        self.real = real\n",
    "        self.imag = imag\n",
    "\n",
    "    def __add__(self, other):\n",
    "        return ComplexNumber(self.real + other.real, self.imag + other.imag)\n",
    "\n",
    "    def __sub__(self, other):\n",
    "        return ComplexNumber(self.real - other.real, self.imag - other.imag)\n",
    "\n",
    "    def __mul__(self, other):\n",
    "        real_part = self.real * other.real - self.imag * other.imag\n",
    "        imag_part = self.real * other.imag + self.imag * other.real\n",
    "        return ComplexNumber(real_part, imag_part)\n",
    "\n",
    "    def __truediv__(self, other):\n",
    "        denominator = other.real**2 + other.imag**2\n",
    "        real_part = (self.real * other.real + self.imag * other.imag) / denominator\n",
    "        imag_part = (self.imag * other.real - self.real * other.imag) / denominator\n",
    "        return ComplexNumber(real_part, imag_part)\n",
    "\n",
    "    def __eq__(self, other):\n",
    "        return self.real == other.real and self.imag == other.imag\n",
    "\n",
    "    def __repr__(self):\n",
    "        return f\"{self.real} + {self.imag}i\"\n",
    "\n",
    "# Create objects of the ComplexNumber class\n",
    "c1 = ComplexNumber(2, 3)\n",
    "c2 = ComplexNumber(1, 4)\n",
    "\n",
    "# Use overloaded operators\n",
    "print(c1 + c2)  # Output: 3 + 7i\n",
    "print(c1 - c2)  # Output: 1 - 1i\n",
    "print(c1 * c2)  # Output: -10 + 11i\n",
    "print(c1 / c2)  # Output: 0.8235294117647058 - 0.29411764705882354i\n",
    "print(c1 == c2) # Output: False\n"
   ]
  },
  {
   "cell_type": "markdown",
   "id": "38b0ce60",
   "metadata": {},
   "source": [
    "# **Custom Exception Handling**"
   ]
  },
  {
   "cell_type": "code",
   "execution_count": 2,
   "id": "c0ec69e4",
   "metadata": {},
   "outputs": [],
   "source": [
    "class Error(Exception):\n",
    "    pass\n",
    "\n",
    "\n",
    "class dobException(Error):\n",
    "    pass\n",
    "    "
   ]
  },
  {
   "cell_type": "code",
   "execution_count": 4,
   "id": "e25e86ac",
   "metadata": {},
   "outputs": [
    {
     "name": "stdout",
     "output_type": "stream",
     "text": [
      "You are eligible for exam\n"
     ]
    }
   ],
   "source": [
    "year = int(input(\"Enter your Year of Birth : \"))\n",
    "age = 2024 - year\n",
    "try:\n",
    "    if age <= 30 and age >= 20 :\n",
    "        print(\"You are eligible for exam\")\n",
    "    else:\n",
    "        raise dobException\n",
    "    \n",
    "except dobException:\n",
    "    print(\"Your age is not eligible for the exam\")\n"
   ]
  },
  {
   "cell_type": "markdown",
   "id": "9fee0c7b",
   "metadata": {},
   "source": [
    "# **Iterators in Python**"
   ]
  },
  {
   "cell_type": "code",
   "execution_count": 5,
   "id": "e5059668",
   "metadata": {},
   "outputs": [
    {
     "name": "stdout",
     "output_type": "stream",
     "text": [
      "1\n",
      "2\n",
      "3\n",
      "4\n",
      "5\n",
      "6\n"
     ]
    }
   ],
   "source": [
    "### advance python concept that allow for efficient looping and memory management\n",
    "### they are used to access the elements from collection sequentially without exposing the underlying structure of collection \n",
    "my_list = [1,2,3,4,5,6]\n",
    "for i in my_list:\n",
    "    print(i)"
   ]
  },
  {
   "cell_type": "code",
   "execution_count": 16,
   "id": "a5680be0",
   "metadata": {},
   "outputs": [],
   "source": [
    "iterator = iter(my_list)"
   ]
  },
  {
   "cell_type": "code",
   "execution_count": 17,
   "id": "017dc79e",
   "metadata": {},
   "outputs": [
    {
     "data": {
      "text/plain": [
       "1"
      ]
     },
     "execution_count": 17,
     "metadata": {},
     "output_type": "execute_result"
    }
   ],
   "source": [
    "next(iterator)"
   ]
  },
  {
   "cell_type": "code",
   "execution_count": 23,
   "id": "408da08a",
   "metadata": {},
   "outputs": [
    {
     "name": "stdout",
     "output_type": "stream",
     "text": [
      "All elements are printed no more element is now available\n"
     ]
    }
   ],
   "source": [
    "try:\n",
    "    print(next(iterator))\n",
    "except StopIteration :\n",
    "    print('All elements are printed no more element is now available')                           "
   ]
  },
  {
   "cell_type": "markdown",
   "id": "1a1e6854",
   "metadata": {},
   "source": [
    "# **Generators**"
   ]
  },
  {
   "cell_type": "markdown",
   "id": "ef864b07",
   "metadata": {},
   "source": [
    "#### subclass for iterator and it is simple way of creating iterators on collection\n",
    "## they use yeild keyword to produce the series of values lazily"
   ]
  },
  {
   "cell_type": "code",
   "execution_count": 30,
   "id": "273f0573",
   "metadata": {},
   "outputs": [],
   "source": [
    "def square(n):\n",
    "    for i in range(3):\n",
    "        yield i**2\n",
    "    "
   ]
  },
  {
   "cell_type": "code",
   "execution_count": 31,
   "id": "a0c23c71",
   "metadata": {},
   "outputs": [
    {
     "name": "stdout",
     "output_type": "stream",
     "text": [
      "0\n",
      "1\n",
      "4\n"
     ]
    }
   ],
   "source": [
    "for i in square(3):\n",
    "    print(i)"
   ]
  },
  {
   "cell_type": "code",
   "execution_count": 33,
   "id": "eaeb6418",
   "metadata": {},
   "outputs": [
    {
     "data": {
      "text/plain": [
       "<generator object square at 0x0000021653A7FD30>"
      ]
     },
     "execution_count": 33,
     "metadata": {},
     "output_type": "execute_result"
    }
   ],
   "source": [
    "square(3) ## it produces the values lazily and donot store values in memory in a single turn\n",
    "\n"
   ]
  },
  {
   "cell_type": "code",
   "execution_count": 34,
   "id": "62755d86",
   "metadata": {},
   "outputs": [],
   "source": [
    "i = square(3)"
   ]
  },
  {
   "cell_type": "code",
   "execution_count": 38,
   "id": "8861f4d6",
   "metadata": {},
   "outputs": [
    {
     "ename": "StopIteration",
     "evalue": "",
     "output_type": "error",
     "traceback": [
      "\u001b[31m---------------------------------------------------------------------------\u001b[39m",
      "\u001b[31mStopIteration\u001b[39m                             Traceback (most recent call last)",
      "\u001b[36mCell\u001b[39m\u001b[36m \u001b[39m\u001b[32mIn[38]\u001b[39m\u001b[32m, line 1\u001b[39m\n\u001b[32m----> \u001b[39m\u001b[32m1\u001b[39m \u001b[38;5;28;43mnext\u001b[39;49m\u001b[43m(\u001b[49m\u001b[43mi\u001b[49m\u001b[43m)\u001b[49m\n",
      "\u001b[31mStopIteration\u001b[39m: "
     ]
    }
   ],
   "source": [
    "next(i)"
   ]
  },
  {
   "cell_type": "code",
   "execution_count": 39,
   "id": "220bfd06",
   "metadata": {},
   "outputs": [],
   "source": [
    "def my_generator():\n",
    "    yield 1\n",
    "    yield 2\n",
    "    yield 3"
   ]
  },
  {
   "cell_type": "code",
   "execution_count": 40,
   "id": "d9c393ff",
   "metadata": {},
   "outputs": [],
   "source": [
    "a = my_generator()"
   ]
  },
  {
   "cell_type": "code",
   "execution_count": 43,
   "id": "549ffbfa",
   "metadata": {},
   "outputs": [
    {
     "data": {
      "text/plain": [
       "3"
      ]
     },
     "execution_count": 43,
     "metadata": {},
     "output_type": "execute_result"
    }
   ],
   "source": [
    "next(a)"
   ]
  },
  {
   "cell_type": "code",
   "execution_count": 44,
   "id": "2c16e526",
   "metadata": {},
   "outputs": [],
   "source": [
    "### Practical Example\n",
    "## Reading ---> Reading Large Files\n",
    "\n",
    "def read_large_files(file_path):\n",
    "    with open(file_path , 'r') as f:\n",
    "        for line in f:\n",
    "            yield line\n"
   ]
  },
  {
   "cell_type": "code",
   "execution_count": 45,
   "id": "456c5ca6",
   "metadata": {},
   "outputs": [
    {
     "name": "stdout",
     "output_type": "stream",
     "text": [
      "Maple syrup is a syrup usually made from the xylem sap of sugar maple, red maple or black maple trees.\n",
      "\n",
      "In cold climates, these trees store starch in their trunks and roots before the winter; the starch is then converted to sugar that rises in the sap in the spring.\n",
      "\n",
      "Trees can be tapped by boring holes into their trunks and collecting the sap. This is processed by heating to evaporate some of the water, leaving the concentrated syrup.\n",
      "\n",
      "Maple syrup was first collected and used by the Indigenous people of North America; the practice was adopted by European settlers.\n",
      "\n",
      "Quebec, Canada, is by far the largest producer, making about three-quarters of the world's output. The syrup is graded based on its density and translucency.\n",
      "\n",
      "Maple syrup is often eaten as an accompaniment to food, as an ingredient in baking and as a sweetener and flavouring agent.\n",
      "\n",
      "Maple syrup and the sugar maple tree are symbols of Canada and several US states, in particular Vermont.\n"
     ]
    }
   ],
   "source": [
    "file_path = 'large_file.txt'\n",
    "for line in read_large_files(file_path):\n",
    "    print(line.strip())"
   ]
  },
  {
   "cell_type": "markdown",
   "id": "da08e2e8",
   "metadata": {},
   "source": [
    "### `Generator basically loads the lines one by one and save them in local variable and it does not loads all file at once in the memory for printing and other calculation purpose`\n",
    "# Python Iterator is much more efficient when compare to generator "
   ]
  },
  {
   "cell_type": "markdown",
   "id": "da363dfd",
   "metadata": {},
   "source": [
    "# **Decorators**"
   ]
  },
  {
   "cell_type": "markdown",
   "id": "3102448e",
   "metadata": {},
   "source": [
    "### Decorator are used to modify the functionality of function or class method , are commonly used to add features in the function without modifying the actual code of the function"
   ]
  },
  {
   "cell_type": "code",
   "execution_count": 46,
   "id": "97f5324d",
   "metadata": {},
   "outputs": [
    {
     "name": "stdout",
     "output_type": "stream",
     "text": [
      "this is the function to welcome you\n"
     ]
    }
   ],
   "source": [
    "# <---- Function Copy ---->\n",
    "### Means we can copy a function in variable and can delete the function but the functionality of function will remain in variable\n",
    "\n",
    "def welcome():\n",
    "    print('this is the function to welcome you')\n",
    "\n",
    "\n",
    "welcome()"
   ]
  },
  {
   "cell_type": "code",
   "execution_count": 47,
   "id": "e05f1a91",
   "metadata": {},
   "outputs": [],
   "source": [
    "wel = welcome"
   ]
  },
  {
   "cell_type": "code",
   "execution_count": null,
   "id": "440262e5",
   "metadata": {},
   "outputs": [
    {
     "name": "stdout",
     "output_type": "stream",
     "text": [
      "this is the function to welcome you\n",
      "this is the function to welcome you\n"
     ]
    }
   ],
   "source": [
    "wel()\n",
    "del welcome\n",
    "wel()"
   ]
  },
  {
   "cell_type": "code",
   "execution_count": 50,
   "id": "b197c819",
   "metadata": {},
   "outputs": [
    {
     "ename": "NameError",
     "evalue": "name 'welcome' is not defined",
     "output_type": "error",
     "traceback": [
      "\u001b[31m---------------------------------------------------------------------------\u001b[39m",
      "\u001b[31mNameError\u001b[39m                                 Traceback (most recent call last)",
      "\u001b[36mCell\u001b[39m\u001b[36m \u001b[39m\u001b[32mIn[50]\u001b[39m\u001b[32m, line 1\u001b[39m\n\u001b[32m----> \u001b[39m\u001b[32m1\u001b[39m \u001b[43mwelcome\u001b[49m()\n",
      "\u001b[31mNameError\u001b[39m: name 'welcome' is not defined"
     ]
    }
   ],
   "source": [
    "welcome()"
   ]
  },
  {
   "cell_type": "code",
   "execution_count": 55,
   "id": "e86edeeb",
   "metadata": {},
   "outputs": [],
   "source": [
    "# <---- Closures ---->\n",
    "### it basically means a function inside a function\n",
    "\n",
    "\n",
    "def welcome(msg):\n",
    "    def sub_welcome():\n",
    "        print(\"Welcome to the advance python course on github\")\n",
    "        print ('\\n' ,msg , '\\n')\n",
    "        print(\"This is the full notebook of python on Github\")\n",
    "    return sub_welcome()"
   ]
  },
  {
   "cell_type": "code",
   "execution_count": 56,
   "id": "ba68a219",
   "metadata": {},
   "outputs": [
    {
     "name": "stdout",
     "output_type": "stream",
     "text": [
      "Welcome to the advance python course on github\n",
      "\n",
      " Github Message \n",
      "\n",
      "This is the full notebook of python on Github\n"
     ]
    }
   ],
   "source": [
    "welcome(\"Github Message\")"
   ]
  },
  {
   "cell_type": "code",
   "execution_count": 57,
   "id": "302ac1cc",
   "metadata": {},
   "outputs": [
    {
     "name": "stdout",
     "output_type": "stream",
     "text": [
      "Welcome to the advance python course on github\n",
      "this is printed due to the fucntion\n",
      "This is the full notebook of python on Github\n"
     ]
    }
   ],
   "source": [
    "def welcome(func):\n",
    "    def sub_welcome():\n",
    "        print(\"Welcome to the advance python course on github\")\n",
    "        func('this is printed due to the fucntion')\n",
    "        print(\"This is the full notebook of python on Github\")\n",
    "    return sub_welcome()\n",
    "\n",
    "welcome(print)\n"
   ]
  },
  {
   "cell_type": "code",
   "execution_count": 58,
   "id": "4fa1d8ec",
   "metadata": {},
   "outputs": [],
   "source": [
    "def welcome(func , lst):\n",
    "    def sub_welcome():\n",
    "        print(\"Welcome to the advance python course on github\")\n",
    "        print(func(lst))\n",
    "        print(\"This is the full notebook of python on Github\")\n",
    "    return sub_welcome()\n"
   ]
  },
  {
   "cell_type": "code",
   "execution_count": 59,
   "id": "3dd7724b",
   "metadata": {},
   "outputs": [
    {
     "name": "stdout",
     "output_type": "stream",
     "text": [
      "Welcome to the advance python course on github\n",
      "5\n",
      "This is the full notebook of python on Github\n"
     ]
    }
   ],
   "source": [
    "welcome(len , [1,2,3,4,5])"
   ]
  },
  {
   "cell_type": "markdown",
   "id": "82957a37",
   "metadata": {},
   "source": [
    "### *Decorators*"
   ]
  },
  {
   "cell_type": "code",
   "execution_count": 62,
   "id": "2a53d303",
   "metadata": {},
   "outputs": [],
   "source": [
    "def welcome(func):\n",
    "    def sub_welcome():\n",
    "        print(\"Welcome to the advance python course on github\")\n",
    "        func()\n",
    "        print(\"This is the full notebook of python on Github\")\n",
    "    return sub_welcome()\n",
    "\n"
   ]
  },
  {
   "cell_type": "code",
   "execution_count": 63,
   "id": "f8e03486",
   "metadata": {},
   "outputs": [
    {
     "name": "stdout",
     "output_type": "stream",
     "text": [
      "Welcome to the advance python course on github\n",
      "this line is printed inside the decorator\n",
      "This is the full notebook of python on Github\n"
     ]
    }
   ],
   "source": [
    "@welcome\n",
    "def function():\n",
    "    print(\"this line is printed inside the decorator\")"
   ]
  },
  {
   "cell_type": "code",
   "execution_count": 66,
   "id": "d23eecd9",
   "metadata": {},
   "outputs": [],
   "source": [
    "def my_decorator(func):\n",
    "    def wrapper():\n",
    "        print('This line is executed before function is called')\n",
    "        func()\n",
    "        print('this line executed after function is called')\n",
    "\n",
    "    return wrapper"
   ]
  },
  {
   "cell_type": "code",
   "execution_count": 67,
   "id": "d6c7488a",
   "metadata": {},
   "outputs": [],
   "source": [
    "@my_decorator\n",
    "def hello():\n",
    "    print('hello world')"
   ]
  },
  {
   "cell_type": "code",
   "execution_count": 68,
   "id": "31b53fe5",
   "metadata": {},
   "outputs": [
    {
     "name": "stdout",
     "output_type": "stream",
     "text": [
      "This line is executed before function is called\n",
      "hello world\n",
      "this line executed after function is called\n"
     ]
    }
   ],
   "source": [
    "hello()"
   ]
  },
  {
   "cell_type": "code",
   "execution_count": 69,
   "id": "b495fca3",
   "metadata": {},
   "outputs": [],
   "source": [
    "### Decorator with Argument\n",
    "def repeat(n):\n",
    "    def decorator(func):\n",
    "        def wrapper(*args , **kwargs):\n",
    "            for _ in range(n):\n",
    "                func(*args , **kwargs)\n",
    "        return wrapper\n",
    "    return decorator\n",
    "\n",
    "\n",
    "        "
   ]
  },
  {
   "cell_type": "code",
   "execution_count": 70,
   "id": "6fbbe8ef",
   "metadata": {},
   "outputs": [],
   "source": [
    "@repeat(3)\n",
    "def say_hello():\n",
    "    print('hello')"
   ]
  },
  {
   "cell_type": "code",
   "execution_count": null,
   "id": "e6c9f430",
   "metadata": {},
   "outputs": [
    {
     "name": "stdout",
     "output_type": "stream",
     "text": [
      "hello\n",
      "hello\n",
      "hello\n"
     ]
    }
   ],
   "source": [
    "say_hello() ## it runs for three time as the value of n is 3 and the iterator running in the functions is taking this value of 3"
   ]
  },
  {
   "cell_type": "markdown",
   "id": "d140f8b1",
   "metadata": {},
   "source": [
    "# Data Analysis Using Python"
   ]
  },
  {
   "cell_type": "markdown",
   "id": "41693c13",
   "metadata": {},
   "source": [
    "# **`NUMPY`**"
   ]
  },
  {
   "cell_type": "code",
   "execution_count": 73,
   "id": "3d2e2ca2",
   "metadata": {},
   "outputs": [],
   "source": [
    "import numpy as np"
   ]
  },
  {
   "cell_type": "code",
   "execution_count": 74,
   "id": "42f49f3e",
   "metadata": {},
   "outputs": [],
   "source": [
    "arr = np.array([1,2,3,4])"
   ]
  },
  {
   "cell_type": "code",
   "execution_count": 76,
   "id": "ad6ee91c",
   "metadata": {},
   "outputs": [
    {
     "name": "stdout",
     "output_type": "stream",
     "text": [
      "<class 'numpy.ndarray'>\n"
     ]
    }
   ],
   "source": [
    "print(type(arr))"
   ]
  },
  {
   "cell_type": "code",
   "execution_count": 79,
   "id": "3068956f",
   "metadata": {},
   "outputs": [
    {
     "data": {
      "text/plain": [
       "array([[1, 2],\n",
       "       [3, 4]])"
      ]
     },
     "execution_count": 79,
     "metadata": {},
     "output_type": "execute_result"
    }
   ],
   "source": [
    "arr.reshape(2,2)"
   ]
  },
  {
   "cell_type": "code",
   "execution_count": 80,
   "id": "66824a53",
   "metadata": {},
   "outputs": [],
   "source": [
    "arr_2d = np.array([[1,2,4],[4,6,7]])"
   ]
  },
  {
   "cell_type": "code",
   "execution_count": 81,
   "id": "1af81897",
   "metadata": {},
   "outputs": [
    {
     "data": {
      "text/plain": [
       "(2, 3)"
      ]
     },
     "execution_count": 81,
     "metadata": {},
     "output_type": "execute_result"
    }
   ],
   "source": [
    "arr_2d.shape"
   ]
  },
  {
   "cell_type": "code",
   "execution_count": 86,
   "id": "16784ebd",
   "metadata": {},
   "outputs": [],
   "source": [
    "### getting specific number of element within certain range\n",
    "a = np.arange(0,10 , 2) ## first two parameters are just range of numbers while the third parameter is stepsize"
   ]
  },
  {
   "cell_type": "code",
   "execution_count": 88,
   "id": "dca751f3",
   "metadata": {},
   "outputs": [
    {
     "data": {
      "text/plain": [
       "array([[0],\n",
       "       [2],\n",
       "       [4],\n",
       "       [6],\n",
       "       [8]])"
      ]
     },
     "execution_count": 88,
     "metadata": {},
     "output_type": "execute_result"
    }
   ],
   "source": [
    "a.reshape(5,1)"
   ]
  },
  {
   "cell_type": "code",
   "execution_count": 89,
   "id": "1474b00f",
   "metadata": {},
   "outputs": [
    {
     "data": {
      "text/plain": [
       "array([[1., 1., 1., 1.],\n",
       "       [1., 1., 1., 1.],\n",
       "       [1., 1., 1., 1.]])"
      ]
     },
     "execution_count": 89,
     "metadata": {},
     "output_type": "execute_result"
    }
   ],
   "source": [
    "np.ones((3,4))"
   ]
  },
  {
   "cell_type": "code",
   "execution_count": 90,
   "metadata": {},
   "outputs": [
    {
     "data": {
      "text/plain": [
       "array([[1., 0., 0., 0., 0.],\n",
       "       [0., 1., 0., 0., 0.],\n",
       "       [0., 0., 1., 0., 0.],\n",
       "       [0., 0., 0., 1., 0.],\n",
       "       [0., 0., 0., 0., 1.]])"
      ]
     },
     "execution_count": 90,
     "metadata": {},
     "output_type": "execute_result"
    }
   ],
   "source": [
    "### identity matrix\n",
    "np.eye(5)"
   ]
  },
  {
   "cell_type": "code",
   "execution_count": 91,
   "id": "036609e4",
   "metadata": {},
   "outputs": [
    {
     "data": {
      "text/plain": [
       "8"
      ]
     },
     "execution_count": 91,
     "metadata": {},
     "output_type": "execute_result"
    }
   ],
   "source": [
    "a.itemsize"
   ]
  },
  {
   "cell_type": "markdown",
   "id": "1bc3b112",
   "metadata": {},
   "source": [
    "## **Numpy Vectorized Operations**"
   ]
  },
  {
   "cell_type": "code",
   "execution_count": 92,
   "id": "1cd2e22f",
   "metadata": {},
   "outputs": [
    {
     "name": "stdout",
     "output_type": "stream",
     "text": [
      "Addition -->  [9 9 9 8]\n"
     ]
    }
   ],
   "source": [
    "arr1 = np.array([1,2,3,4])\n",
    "arr2 = np.array([8,7,6,4])\n",
    "print(\"Addition --> \" , arr1 + arr2)"
   ]
  },
  {
   "cell_type": "code",
   "execution_count": 93,
   "id": "9203f07b",
   "metadata": {},
   "outputs": [
    {
     "name": "stdout",
     "output_type": "stream",
     "text": [
      "[2.82842712 2.64575131 2.44948974 2.        ]\n"
     ]
    }
   ],
   "source": [
    "print(np.sqrt(arr2))"
   ]
  },
  {
   "cell_type": "code",
   "execution_count": 94,
   "id": "f2171020",
   "metadata": {},
   "outputs": [
    {
     "data": {
      "text/plain": [
       "array([2980.95798704, 1096.63315843,  403.42879349,   54.59815003])"
      ]
     },
     "execution_count": 94,
     "metadata": {},
     "output_type": "execute_result"
    }
   ],
   "source": [
    "## Exponential Function \n",
    "np.exp(arr2)"
   ]
  },
  {
   "cell_type": "markdown",
   "id": "96a26d1a",
   "metadata": {},
   "source": [
    "## Slicing and Indexing "
   ]
  },
  {
   "cell_type": "code",
   "execution_count": 95,
   "id": "9d65751b",
   "metadata": {},
   "outputs": [],
   "source": [
    "### Universal Functions\n",
    "arr_a = np.array([[1,2,4],[4,7,8],[8,5,3]])"
   ]
  },
  {
   "cell_type": "code",
   "execution_count": 96,
   "id": "ef8d1c92",
   "metadata": {},
   "outputs": [
    {
     "data": {
      "text/plain": [
       "np.int64(7)"
      ]
     },
     "execution_count": 96,
     "metadata": {},
     "output_type": "execute_result"
    }
   ],
   "source": [
    "arr_a[1,1]"
   ]
  },
  {
   "cell_type": "code",
   "execution_count": 97,
   "id": "2366bda7",
   "metadata": {},
   "outputs": [
    {
     "data": {
      "text/plain": [
       "array([[7, 8],\n",
       "       [5, 3]])"
      ]
     },
     "execution_count": 97,
     "metadata": {},
     "output_type": "execute_result"
    }
   ],
   "source": [
    "arr_a[1:,1:]"
   ]
  },
  {
   "cell_type": "code",
   "execution_count": 98,
   "id": "8a8c9af7",
   "metadata": {},
   "outputs": [],
   "source": [
    "### you can also modify elements in the array "
   ]
  },
  {
   "cell_type": "markdown",
   "id": "1e6378c4",
   "metadata": {},
   "source": [
    "## **Normalization of Data**"
   ]
  },
  {
   "cell_type": "code",
   "execution_count": 99,
   "id": "f32cf95b",
   "metadata": {},
   "outputs": [
    {
     "data": {
      "text/plain": [
       "array([-1.41421356, -0.70710678,  0.        ,  0.70710678,  1.41421356])"
      ]
     },
     "execution_count": 99,
     "metadata": {},
     "output_type": "execute_result"
    }
   ],
   "source": [
    "data = np.array([1,2,3,4,5])\n",
    "\n",
    "\n",
    "mean = np.mean(data)\n",
    "std = np.std(data)\n",
    "\n",
    "normalized_data = (data - mean) / std\n",
    "\n",
    "normalized_data"
   ]
  },
  {
   "cell_type": "code",
   "execution_count": null,
   "id": "11013732",
   "metadata": {},
   "outputs": [
    {
     "data": {
      "text/plain": [
       "array([6, 7, 8, 9])"
      ]
     },
     "execution_count": 101,
     "metadata": {},
     "output_type": "execute_result"
    }
   ],
   "source": [
    "## Logical Operations\n",
    "data = np.array([1,2,3,4,5,6,7,8,9])\n",
    "data[data>5]   ## Boolean Masking of Data"
   ]
  },
  {
   "cell_type": "markdown",
   "id": "2b943b13",
   "metadata": {},
   "source": [
    "# **`PANDAS`**"
   ]
  },
  {
   "cell_type": "code",
   "execution_count": 3,
   "id": "1e34c553",
   "metadata": {},
   "outputs": [],
   "source": [
    "import pandas as pd"
   ]
  },
  {
   "cell_type": "code",
   "execution_count": 5,
   "id": "7fd4c5a0",
   "metadata": {},
   "outputs": [],
   "source": [
    "data = [1,2,3,4]\n",
    "df = pd.Series(data)"
   ]
  },
  {
   "cell_type": "code",
   "execution_count": 12,
   "id": "40e0e21b",
   "metadata": {},
   "outputs": [
    {
     "data": {
      "text/plain": [
       "a    1\n",
       "b    2\n",
       "c    3\n",
       "dtype: int64"
      ]
     },
     "execution_count": 12,
     "metadata": {},
     "output_type": "execute_result"
    }
   ],
   "source": [
    "### Series From a Dictionary \n",
    "data1 = {\"a\" : 1 , \"b\" : 2 , \"c\" : 3}\n",
    "df1 = pd.Series(data1)\n",
    "df1"
   ]
  },
  {
   "cell_type": "code",
   "execution_count": 13,
   "id": "bb039125",
   "metadata": {},
   "outputs": [
    {
     "data": {
      "text/plain": [
       "np.int64(1)"
      ]
     },
     "execution_count": 13,
     "metadata": {},
     "output_type": "execute_result"
    }
   ],
   "source": [
    "df1['a']"
   ]
  },
  {
   "cell_type": "code",
   "execution_count": 15,
   "id": "695b6315",
   "metadata": {},
   "outputs": [
    {
     "data": {
      "text/plain": [
       "a    10\n",
       "b    20\n",
       "c    30\n",
       "dtype: int64"
      ]
     },
     "execution_count": 15,
     "metadata": {},
     "output_type": "execute_result"
    }
   ],
   "source": [
    "datae = [10,20,30]\n",
    "index = ['a' , 'b' , 'c']\n",
    "df = pd.Series(datae , index = index)\n",
    "df"
   ]
  },
  {
   "cell_type": "code",
   "execution_count": 4,
   "id": "4fb2034e",
   "metadata": {},
   "outputs": [],
   "source": [
    "data2 = {\n",
    "    \"name\" : [\"Shahbaz\" , \"ALi\" , \"Harris\"],\n",
    "    \"Age\" : [18 , 63 , 23],\n",
    "    \"City\" : [\"Sheikhupura\" , \"Mecca\" , \"Los Angeles\"]\n",
    "}"
   ]
  },
  {
   "cell_type": "code",
   "execution_count": 5,
   "id": "523cff60",
   "metadata": {},
   "outputs": [],
   "source": [
    "df2 = pd.DataFrame(data2)"
   ]
  },
  {
   "cell_type": "code",
   "execution_count": 29,
   "id": "2add5ff7",
   "metadata": {},
   "outputs": [
    {
     "data": {
      "text/html": [
       "<div>\n",
       "<style scoped>\n",
       "    .dataframe tbody tr th:only-of-type {\n",
       "        vertical-align: middle;\n",
       "    }\n",
       "\n",
       "    .dataframe tbody tr th {\n",
       "        vertical-align: top;\n",
       "    }\n",
       "\n",
       "    .dataframe thead th {\n",
       "        text-align: right;\n",
       "    }\n",
       "</style>\n",
       "<table border=\"1\" class=\"dataframe\">\n",
       "  <thead>\n",
       "    <tr style=\"text-align: right;\">\n",
       "      <th></th>\n",
       "      <th>name</th>\n",
       "      <th>Age</th>\n",
       "      <th>City</th>\n",
       "    </tr>\n",
       "  </thead>\n",
       "  <tbody>\n",
       "    <tr>\n",
       "      <th>0</th>\n",
       "      <td>Shahbaz</td>\n",
       "      <td>18</td>\n",
       "      <td>Sheikhupura</td>\n",
       "    </tr>\n",
       "    <tr>\n",
       "      <th>1</th>\n",
       "      <td>ALi</td>\n",
       "      <td>63</td>\n",
       "      <td>Mecca</td>\n",
       "    </tr>\n",
       "    <tr>\n",
       "      <th>2</th>\n",
       "      <td>Harris</td>\n",
       "      <td>23</td>\n",
       "      <td>Los Angeles</td>\n",
       "    </tr>\n",
       "  </tbody>\n",
       "</table>\n",
       "</div>"
      ],
      "text/plain": [
       "      name  Age         City\n",
       "0  Shahbaz   18  Sheikhupura\n",
       "1      ALi   63        Mecca\n",
       "2   Harris   23  Los Angeles"
      ]
     },
     "execution_count": 29,
     "metadata": {},
     "output_type": "execute_result"
    }
   ],
   "source": [
    "df2"
   ]
  },
  {
   "cell_type": "code",
   "execution_count": 8,
   "id": "d5dc8a8b",
   "metadata": {},
   "outputs": [
    {
     "data": {
      "text/plain": [
       "array({'name': ['Shahbaz', 'ALi', 'Harris'], 'Age': [18, 63, 23], 'City': ['Sheikhupura', 'Mecca', 'Los Angeles']},\n",
       "      dtype=object)"
      ]
     },
     "execution_count": 8,
     "metadata": {},
     "output_type": "execute_result"
    }
   ],
   "source": [
    "import numpy as np\n",
    "np.array(data2)"
   ]
  },
  {
   "cell_type": "code",
   "execution_count": 9,
   "id": "130012c3",
   "metadata": {},
   "outputs": [
    {
     "name": "stderr",
     "output_type": "stream",
     "text": [
      "<>:1: SyntaxWarning: invalid escape sequence '\\A'\n",
      "<>:1: SyntaxWarning: invalid escape sequence '\\A'\n",
      "C:\\Users\\User\\AppData\\Local\\Temp\\ipykernel_15984\\2606347978.py:1: SyntaxWarning: invalid escape sequence '\\A'\n",
      "  df = pd.read_csv('S:\\AI_AGENTS\\Python_N_Env\\Python_basics\\sales1_data.csv')\n"
     ]
    }
   ],
   "source": [
    "df = pd.read_csv('S:\\AI_AGENTS\\Python_N_Env\\Python_basics\\sales1_data.csv')"
   ]
  },
  {
   "cell_type": "code",
   "execution_count": 10,
   "id": "09de6da7",
   "metadata": {},
   "outputs": [
    {
     "data": {
      "text/html": [
       "<div>\n",
       "<style scoped>\n",
       "    .dataframe tbody tr th:only-of-type {\n",
       "        vertical-align: middle;\n",
       "    }\n",
       "\n",
       "    .dataframe tbody tr th {\n",
       "        vertical-align: top;\n",
       "    }\n",
       "\n",
       "    .dataframe thead th {\n",
       "        text-align: right;\n",
       "    }\n",
       "</style>\n",
       "<table border=\"1\" class=\"dataframe\">\n",
       "  <thead>\n",
       "    <tr style=\"text-align: right;\">\n",
       "      <th></th>\n",
       "      <th>Date</th>\n",
       "      <th>Product</th>\n",
       "      <th>Sales</th>\n",
       "      <th>Region</th>\n",
       "    </tr>\n",
       "  </thead>\n",
       "  <tbody>\n",
       "    <tr>\n",
       "      <th>0</th>\n",
       "      <td>2023-01-01</td>\n",
       "      <td>Product3</td>\n",
       "      <td>738.0</td>\n",
       "      <td>West</td>\n",
       "    </tr>\n",
       "    <tr>\n",
       "      <th>1</th>\n",
       "      <td>2023-01-02</td>\n",
       "      <td>Product2</td>\n",
       "      <td>868.0</td>\n",
       "      <td>North</td>\n",
       "    </tr>\n",
       "    <tr>\n",
       "      <th>2</th>\n",
       "      <td>2023-01-03</td>\n",
       "      <td>Product2</td>\n",
       "      <td>554.0</td>\n",
       "      <td>West</td>\n",
       "    </tr>\n",
       "    <tr>\n",
       "      <th>3</th>\n",
       "      <td>2023-01-04</td>\n",
       "      <td>Product1</td>\n",
       "      <td>618.0</td>\n",
       "      <td>South</td>\n",
       "    </tr>\n",
       "    <tr>\n",
       "      <th>4</th>\n",
       "      <td>2023-01-05</td>\n",
       "      <td>Product3</td>\n",
       "      <td>501.0</td>\n",
       "      <td>East</td>\n",
       "    </tr>\n",
       "    <tr>\n",
       "      <th>5</th>\n",
       "      <td>2023-01-06</td>\n",
       "      <td>Product1</td>\n",
       "      <td>NaN</td>\n",
       "      <td>West</td>\n",
       "    </tr>\n",
       "    <tr>\n",
       "      <th>6</th>\n",
       "      <td>2023-01-07</td>\n",
       "      <td>Product3</td>\n",
       "      <td>339.0</td>\n",
       "      <td>South</td>\n",
       "    </tr>\n",
       "    <tr>\n",
       "      <th>7</th>\n",
       "      <td>2023-01-08</td>\n",
       "      <td>Product3</td>\n",
       "      <td>280.0</td>\n",
       "      <td>South</td>\n",
       "    </tr>\n",
       "    <tr>\n",
       "      <th>8</th>\n",
       "      <td>2023-01-09</td>\n",
       "      <td>Product2</td>\n",
       "      <td>806.0</td>\n",
       "      <td>North</td>\n",
       "    </tr>\n",
       "    <tr>\n",
       "      <th>9</th>\n",
       "      <td>2023-01-10</td>\n",
       "      <td>Product2</td>\n",
       "      <td>816.0</td>\n",
       "      <td>South</td>\n",
       "    </tr>\n",
       "    <tr>\n",
       "      <th>10</th>\n",
       "      <td>2023-01-11</td>\n",
       "      <td>Product3</td>\n",
       "      <td>469.0</td>\n",
       "      <td>West</td>\n",
       "    </tr>\n",
       "    <tr>\n",
       "      <th>11</th>\n",
       "      <td>2023-01-12</td>\n",
       "      <td>Product3</td>\n",
       "      <td>NaN</td>\n",
       "      <td>East</td>\n",
       "    </tr>\n",
       "    <tr>\n",
       "      <th>12</th>\n",
       "      <td>2023-01-13</td>\n",
       "      <td>Product3</td>\n",
       "      <td>NaN</td>\n",
       "      <td>East</td>\n",
       "    </tr>\n",
       "    <tr>\n",
       "      <th>13</th>\n",
       "      <td>2023-01-14</td>\n",
       "      <td>Product3</td>\n",
       "      <td>676.0</td>\n",
       "      <td>East</td>\n",
       "    </tr>\n",
       "    <tr>\n",
       "      <th>14</th>\n",
       "      <td>2023-01-15</td>\n",
       "      <td>Product1</td>\n",
       "      <td>183.0</td>\n",
       "      <td>South</td>\n",
       "    </tr>\n",
       "    <tr>\n",
       "      <th>15</th>\n",
       "      <td>2023-01-16</td>\n",
       "      <td>Product1</td>\n",
       "      <td>424.0</td>\n",
       "      <td>South</td>\n",
       "    </tr>\n",
       "    <tr>\n",
       "      <th>16</th>\n",
       "      <td>2023-01-17</td>\n",
       "      <td>Product1</td>\n",
       "      <td>NaN</td>\n",
       "      <td>South</td>\n",
       "    </tr>\n",
       "    <tr>\n",
       "      <th>17</th>\n",
       "      <td>2023-01-18</td>\n",
       "      <td>Product1</td>\n",
       "      <td>NaN</td>\n",
       "      <td>South</td>\n",
       "    </tr>\n",
       "    <tr>\n",
       "      <th>18</th>\n",
       "      <td>2023-01-19</td>\n",
       "      <td>Product2</td>\n",
       "      <td>124.0</td>\n",
       "      <td>North</td>\n",
       "    </tr>\n",
       "    <tr>\n",
       "      <th>19</th>\n",
       "      <td>2023-01-20</td>\n",
       "      <td>Product3</td>\n",
       "      <td>732.0</td>\n",
       "      <td>West</td>\n",
       "    </tr>\n",
       "    <tr>\n",
       "      <th>20</th>\n",
       "      <td>2023-01-21</td>\n",
       "      <td>Product2</td>\n",
       "      <td>NaN</td>\n",
       "      <td>West</td>\n",
       "    </tr>\n",
       "    <tr>\n",
       "      <th>21</th>\n",
       "      <td>2023-01-22</td>\n",
       "      <td>Product3</td>\n",
       "      <td>296.0</td>\n",
       "      <td>West</td>\n",
       "    </tr>\n",
       "    <tr>\n",
       "      <th>22</th>\n",
       "      <td>2023-01-23</td>\n",
       "      <td>Product2</td>\n",
       "      <td>737.0</td>\n",
       "      <td>West</td>\n",
       "    </tr>\n",
       "    <tr>\n",
       "      <th>23</th>\n",
       "      <td>2023-01-24</td>\n",
       "      <td>Product3</td>\n",
       "      <td>531.0</td>\n",
       "      <td>East</td>\n",
       "    </tr>\n",
       "    <tr>\n",
       "      <th>24</th>\n",
       "      <td>2023-01-25</td>\n",
       "      <td>Product2</td>\n",
       "      <td>834.0</td>\n",
       "      <td>North</td>\n",
       "    </tr>\n",
       "  </tbody>\n",
       "</table>\n",
       "</div>"
      ],
      "text/plain": [
       "          Date   Product  Sales Region\n",
       "0   2023-01-01  Product3  738.0   West\n",
       "1   2023-01-02  Product2  868.0  North\n",
       "2   2023-01-03  Product2  554.0   West\n",
       "3   2023-01-04  Product1  618.0  South\n",
       "4   2023-01-05  Product3  501.0   East\n",
       "5   2023-01-06  Product1    NaN   West\n",
       "6   2023-01-07  Product3  339.0  South\n",
       "7   2023-01-08  Product3  280.0  South\n",
       "8   2023-01-09  Product2  806.0  North\n",
       "9   2023-01-10  Product2  816.0  South\n",
       "10  2023-01-11  Product3  469.0   West\n",
       "11  2023-01-12  Product3    NaN   East\n",
       "12  2023-01-13  Product3    NaN   East\n",
       "13  2023-01-14  Product3  676.0   East\n",
       "14  2023-01-15  Product1  183.0  South\n",
       "15  2023-01-16  Product1  424.0  South\n",
       "16  2023-01-17  Product1    NaN  South\n",
       "17  2023-01-18  Product1    NaN  South\n",
       "18  2023-01-19  Product2  124.0  North\n",
       "19  2023-01-20  Product3  732.0   West\n",
       "20  2023-01-21  Product2    NaN   West\n",
       "21  2023-01-22  Product3  296.0   West\n",
       "22  2023-01-23  Product2  737.0   West\n",
       "23  2023-01-24  Product3  531.0   East\n",
       "24  2023-01-25  Product2  834.0  North"
      ]
     },
     "execution_count": 10,
     "metadata": {},
     "output_type": "execute_result"
    }
   ],
   "source": [
    "df"
   ]
  },
  {
   "cell_type": "code",
   "execution_count": 14,
   "id": "67eaeb7d",
   "metadata": {},
   "outputs": [
    {
     "data": {
      "text/html": [
       "<div>\n",
       "<style scoped>\n",
       "    .dataframe tbody tr th:only-of-type {\n",
       "        vertical-align: middle;\n",
       "    }\n",
       "\n",
       "    .dataframe tbody tr th {\n",
       "        vertical-align: top;\n",
       "    }\n",
       "\n",
       "    .dataframe thead th {\n",
       "        text-align: right;\n",
       "    }\n",
       "</style>\n",
       "<table border=\"1\" class=\"dataframe\">\n",
       "  <thead>\n",
       "    <tr style=\"text-align: right;\">\n",
       "      <th></th>\n",
       "      <th>Date</th>\n",
       "      <th>Product</th>\n",
       "      <th>Sales</th>\n",
       "      <th>Region</th>\n",
       "    </tr>\n",
       "  </thead>\n",
       "  <tbody>\n",
       "    <tr>\n",
       "      <th>20</th>\n",
       "      <td>2023-01-21</td>\n",
       "      <td>Product2</td>\n",
       "      <td>NaN</td>\n",
       "      <td>West</td>\n",
       "    </tr>\n",
       "    <tr>\n",
       "      <th>21</th>\n",
       "      <td>2023-01-22</td>\n",
       "      <td>Product3</td>\n",
       "      <td>296.0</td>\n",
       "      <td>West</td>\n",
       "    </tr>\n",
       "    <tr>\n",
       "      <th>22</th>\n",
       "      <td>2023-01-23</td>\n",
       "      <td>Product2</td>\n",
       "      <td>737.0</td>\n",
       "      <td>West</td>\n",
       "    </tr>\n",
       "    <tr>\n",
       "      <th>23</th>\n",
       "      <td>2023-01-24</td>\n",
       "      <td>Product3</td>\n",
       "      <td>531.0</td>\n",
       "      <td>East</td>\n",
       "    </tr>\n",
       "    <tr>\n",
       "      <th>24</th>\n",
       "      <td>2023-01-25</td>\n",
       "      <td>Product2</td>\n",
       "      <td>834.0</td>\n",
       "      <td>North</td>\n",
       "    </tr>\n",
       "  </tbody>\n",
       "</table>\n",
       "</div>"
      ],
      "text/plain": [
       "          Date   Product  Sales Region\n",
       "20  2023-01-21  Product2    NaN   West\n",
       "21  2023-01-22  Product3  296.0   West\n",
       "22  2023-01-23  Product2  737.0   West\n",
       "23  2023-01-24  Product3  531.0   East\n",
       "24  2023-01-25  Product2  834.0  North"
      ]
     },
     "execution_count": 14,
     "metadata": {},
     "output_type": "execute_result"
    }
   ],
   "source": [
    "df.tail()"
   ]
  },
  {
   "cell_type": "code",
   "execution_count": 17,
   "id": "50314dcd",
   "metadata": {},
   "outputs": [
    {
     "data": {
      "text/plain": [
       "Date       2023-01-01\n",
       "Product      Product3\n",
       "Sales           738.0\n",
       "Region           West\n",
       "Name: 0, dtype: object"
      ]
     },
     "execution_count": 17,
     "metadata": {},
     "output_type": "execute_result"
    }
   ],
   "source": [
    "df.iloc[0 , :]"
   ]
  },
  {
   "cell_type": "code",
   "execution_count": 23,
   "id": "50efa8a1",
   "metadata": {},
   "outputs": [
    {
     "name": "stderr",
     "output_type": "stream",
     "text": [
      "C:\\Users\\User\\AppData\\Local\\Temp\\ipykernel_15984\\3629555008.py:1: FutureWarning: Series.__getitem__ treating keys as positions is deprecated. In a future version, integer keys will always be treated as labels (consistent with DataFrame behavior). To access a value by position, use `ser.iloc[pos]`\n",
      "  df.iloc[0][0]\n"
     ]
    },
    {
     "data": {
      "text/plain": [
       "'2023-01-01'"
      ]
     },
     "execution_count": 23,
     "metadata": {},
     "output_type": "execute_result"
    }
   ],
   "source": [
    "df.iloc[0][0]\n"
   ]
  },
  {
   "cell_type": "code",
   "execution_count": 24,
   "id": "b5704887",
   "metadata": {},
   "outputs": [
    {
     "data": {
      "text/plain": [
       "'Product3'"
      ]
     },
     "execution_count": 24,
     "metadata": {},
     "output_type": "execute_result"
    }
   ],
   "source": [
    "df.at[21 , 'Product']"
   ]
  },
  {
   "cell_type": "code",
   "execution_count": 27,
   "id": "8e37b562",
   "metadata": {},
   "outputs": [
    {
     "data": {
      "text/plain": [
       "Product\n",
       "Product3    11\n",
       "Product2     8\n",
       "Product1     6\n",
       "Name: count, dtype: int64"
      ]
     },
     "execution_count": 27,
     "metadata": {},
     "output_type": "execute_result"
    }
   ],
   "source": [
    "df['Product'].value_counts()"
   ]
  },
  {
   "cell_type": "code",
   "execution_count": 32,
   "id": "23d60f93",
   "metadata": {},
   "outputs": [
    {
     "data": {
      "text/plain": [
       "'Sheikhupura'"
      ]
     },
     "execution_count": 32,
     "metadata": {},
     "output_type": "execute_result"
    }
   ],
   "source": [
    "# Accessing a specified element using iat\n",
    "\n",
    "df2.iat[0,2]"
   ]
  },
  {
   "cell_type": "code",
   "execution_count": 34,
   "id": "e96309c2",
   "metadata": {},
   "outputs": [],
   "source": [
    "# Data Manipulation with DataFrames\n",
    "df2['Salary'] = [4000 ,4002 , 12904]"
   ]
  },
  {
   "cell_type": "code",
   "execution_count": 35,
   "id": "4486e5f9",
   "metadata": {},
   "outputs": [
    {
     "data": {
      "text/html": [
       "<div>\n",
       "<style scoped>\n",
       "    .dataframe tbody tr th:only-of-type {\n",
       "        vertical-align: middle;\n",
       "    }\n",
       "\n",
       "    .dataframe tbody tr th {\n",
       "        vertical-align: top;\n",
       "    }\n",
       "\n",
       "    .dataframe thead th {\n",
       "        text-align: right;\n",
       "    }\n",
       "</style>\n",
       "<table border=\"1\" class=\"dataframe\">\n",
       "  <thead>\n",
       "    <tr style=\"text-align: right;\">\n",
       "      <th></th>\n",
       "      <th>name</th>\n",
       "      <th>Age</th>\n",
       "      <th>City</th>\n",
       "      <th>Salary</th>\n",
       "    </tr>\n",
       "  </thead>\n",
       "  <tbody>\n",
       "    <tr>\n",
       "      <th>0</th>\n",
       "      <td>Shahbaz</td>\n",
       "      <td>18</td>\n",
       "      <td>Sheikhupura</td>\n",
       "      <td>4000</td>\n",
       "    </tr>\n",
       "    <tr>\n",
       "      <th>1</th>\n",
       "      <td>ALi</td>\n",
       "      <td>63</td>\n",
       "      <td>Mecca</td>\n",
       "      <td>4002</td>\n",
       "    </tr>\n",
       "    <tr>\n",
       "      <th>2</th>\n",
       "      <td>Harris</td>\n",
       "      <td>23</td>\n",
       "      <td>Los Angeles</td>\n",
       "      <td>12904</td>\n",
       "    </tr>\n",
       "  </tbody>\n",
       "</table>\n",
       "</div>"
      ],
      "text/plain": [
       "      name  Age         City  Salary\n",
       "0  Shahbaz   18  Sheikhupura    4000\n",
       "1      ALi   63        Mecca    4002\n",
       "2   Harris   23  Los Angeles   12904"
      ]
     },
     "execution_count": 35,
     "metadata": {},
     "output_type": "execute_result"
    }
   ],
   "source": [
    "df2"
   ]
  },
  {
   "cell_type": "code",
   "execution_count": 39,
   "id": "a1d1c0a6",
   "metadata": {},
   "outputs": [],
   "source": [
    "df2.drop('Salary' , axis = 1 , inplace= True)"
   ]
  },
  {
   "cell_type": "code",
   "execution_count": 40,
   "id": "5ecda2f0",
   "metadata": {},
   "outputs": [
    {
     "data": {
      "text/html": [
       "<div>\n",
       "<style scoped>\n",
       "    .dataframe tbody tr th:only-of-type {\n",
       "        vertical-align: middle;\n",
       "    }\n",
       "\n",
       "    .dataframe tbody tr th {\n",
       "        vertical-align: top;\n",
       "    }\n",
       "\n",
       "    .dataframe thead th {\n",
       "        text-align: right;\n",
       "    }\n",
       "</style>\n",
       "<table border=\"1\" class=\"dataframe\">\n",
       "  <thead>\n",
       "    <tr style=\"text-align: right;\">\n",
       "      <th></th>\n",
       "      <th>name</th>\n",
       "      <th>Age</th>\n",
       "      <th>City</th>\n",
       "    </tr>\n",
       "  </thead>\n",
       "  <tbody>\n",
       "    <tr>\n",
       "      <th>0</th>\n",
       "      <td>Shahbaz</td>\n",
       "      <td>18</td>\n",
       "      <td>Sheikhupura</td>\n",
       "    </tr>\n",
       "    <tr>\n",
       "      <th>1</th>\n",
       "      <td>ALi</td>\n",
       "      <td>63</td>\n",
       "      <td>Mecca</td>\n",
       "    </tr>\n",
       "    <tr>\n",
       "      <th>2</th>\n",
       "      <td>Harris</td>\n",
       "      <td>23</td>\n",
       "      <td>Los Angeles</td>\n",
       "    </tr>\n",
       "  </tbody>\n",
       "</table>\n",
       "</div>"
      ],
      "text/plain": [
       "      name  Age         City\n",
       "0  Shahbaz   18  Sheikhupura\n",
       "1      ALi   63        Mecca\n",
       "2   Harris   23  Los Angeles"
      ]
     },
     "execution_count": 40,
     "metadata": {},
     "output_type": "execute_result"
    }
   ],
   "source": [
    "df2"
   ]
  },
  {
   "cell_type": "code",
   "execution_count": 42,
   "id": "a3d6ef62",
   "metadata": {},
   "outputs": [],
   "source": [
    "df2[\"Age\"] = df2[\"Age\"]  + 1"
   ]
  },
  {
   "cell_type": "code",
   "execution_count": 43,
   "id": "f4291ad2",
   "metadata": {},
   "outputs": [
    {
     "data": {
      "text/html": [
       "<div>\n",
       "<style scoped>\n",
       "    .dataframe tbody tr th:only-of-type {\n",
       "        vertical-align: middle;\n",
       "    }\n",
       "\n",
       "    .dataframe tbody tr th {\n",
       "        vertical-align: top;\n",
       "    }\n",
       "\n",
       "    .dataframe thead th {\n",
       "        text-align: right;\n",
       "    }\n",
       "</style>\n",
       "<table border=\"1\" class=\"dataframe\">\n",
       "  <thead>\n",
       "    <tr style=\"text-align: right;\">\n",
       "      <th></th>\n",
       "      <th>name</th>\n",
       "      <th>Age</th>\n",
       "      <th>City</th>\n",
       "    </tr>\n",
       "  </thead>\n",
       "  <tbody>\n",
       "    <tr>\n",
       "      <th>0</th>\n",
       "      <td>Shahbaz</td>\n",
       "      <td>19</td>\n",
       "      <td>Sheikhupura</td>\n",
       "    </tr>\n",
       "    <tr>\n",
       "      <th>1</th>\n",
       "      <td>ALi</td>\n",
       "      <td>64</td>\n",
       "      <td>Mecca</td>\n",
       "    </tr>\n",
       "    <tr>\n",
       "      <th>2</th>\n",
       "      <td>Harris</td>\n",
       "      <td>24</td>\n",
       "      <td>Los Angeles</td>\n",
       "    </tr>\n",
       "  </tbody>\n",
       "</table>\n",
       "</div>"
      ],
      "text/plain": [
       "      name  Age         City\n",
       "0  Shahbaz   19  Sheikhupura\n",
       "1      ALi   64        Mecca\n",
       "2   Harris   24  Los Angeles"
      ]
     },
     "execution_count": 43,
     "metadata": {},
     "output_type": "execute_result"
    }
   ],
   "source": [
    "df2"
   ]
  },
  {
   "cell_type": "code",
   "execution_count": 44,
   "id": "660e9bd6",
   "metadata": {},
   "outputs": [],
   "source": [
    "df2.drop(0 , inplace = True)"
   ]
  },
  {
   "cell_type": "code",
   "execution_count": 45,
   "id": "dce78dfa",
   "metadata": {},
   "outputs": [
    {
     "data": {
      "text/html": [
       "<div>\n",
       "<style scoped>\n",
       "    .dataframe tbody tr th:only-of-type {\n",
       "        vertical-align: middle;\n",
       "    }\n",
       "\n",
       "    .dataframe tbody tr th {\n",
       "        vertical-align: top;\n",
       "    }\n",
       "\n",
       "    .dataframe thead th {\n",
       "        text-align: right;\n",
       "    }\n",
       "</style>\n",
       "<table border=\"1\" class=\"dataframe\">\n",
       "  <thead>\n",
       "    <tr style=\"text-align: right;\">\n",
       "      <th></th>\n",
       "      <th>name</th>\n",
       "      <th>Age</th>\n",
       "      <th>City</th>\n",
       "    </tr>\n",
       "  </thead>\n",
       "  <tbody>\n",
       "    <tr>\n",
       "      <th>1</th>\n",
       "      <td>ALi</td>\n",
       "      <td>64</td>\n",
       "      <td>Mecca</td>\n",
       "    </tr>\n",
       "    <tr>\n",
       "      <th>2</th>\n",
       "      <td>Harris</td>\n",
       "      <td>24</td>\n",
       "      <td>Los Angeles</td>\n",
       "    </tr>\n",
       "  </tbody>\n",
       "</table>\n",
       "</div>"
      ],
      "text/plain": [
       "     name  Age         City\n",
       "1     ALi   64        Mecca\n",
       "2  Harris   24  Los Angeles"
      ]
     },
     "execution_count": 45,
     "metadata": {},
     "output_type": "execute_result"
    }
   ],
   "source": [
    "df2"
   ]
  },
  {
   "cell_type": "code",
   "execution_count": 46,
   "id": "761ebcba",
   "metadata": {},
   "outputs": [
    {
     "data": {
      "text/plain": [
       "name    object\n",
       "Age      int64\n",
       "City    object\n",
       "dtype: object"
      ]
     },
     "execution_count": 46,
     "metadata": {},
     "output_type": "execute_result"
    }
   ],
   "source": [
    "df2.dtypes"
   ]
  },
  {
   "cell_type": "markdown",
   "id": "49365774",
   "metadata": {},
   "source": [
    "## **Data Manipulation**"
   ]
  },
  {
   "cell_type": "code",
   "execution_count": 54,
   "id": "ab50041b",
   "metadata": {},
   "outputs": [
    {
     "data": {
      "text/plain": [
       "Date       0\n",
       "Product    0\n",
       "Sales      0\n",
       "Region     0\n",
       "dtype: int64"
      ]
     },
     "execution_count": 54,
     "metadata": {},
     "output_type": "execute_result"
    }
   ],
   "source": [
    "df.isnull().sum()"
   ]
  },
  {
   "cell_type": "code",
   "execution_count": 53,
   "id": "3b20019a",
   "metadata": {},
   "outputs": [],
   "source": [
    "df.fillna(df['Sales'].mean() , inplace = True)"
   ]
  },
  {
   "cell_type": "code",
   "execution_count": 58,
   "id": "b5aad0dc",
   "metadata": {},
   "outputs": [],
   "source": [
    "df[\"Sales\"] = df['Sales'].astype('int')"
   ]
  },
  {
   "cell_type": "code",
   "execution_count": 59,
   "id": "815c9487",
   "metadata": {},
   "outputs": [
    {
     "data": {
      "text/plain": [
       "Date       object\n",
       "Product    object\n",
       "Sales       int64\n",
       "Region     object\n",
       "dtype: object"
      ]
     },
     "execution_count": 59,
     "metadata": {},
     "output_type": "execute_result"
    }
   ],
   "source": [
    "df.dtypes"
   ]
  },
  {
   "cell_type": "code",
   "execution_count": 60,
   "id": "d25341dc",
   "metadata": {},
   "outputs": [],
   "source": [
    "df[\"New_Sales\"] = df[\"Sales\"].apply(lambda x: x*2)"
   ]
  },
  {
   "cell_type": "code",
   "execution_count": 61,
   "id": "abd3415b",
   "metadata": {},
   "outputs": [
    {
     "data": {
      "text/html": [
       "<div>\n",
       "<style scoped>\n",
       "    .dataframe tbody tr th:only-of-type {\n",
       "        vertical-align: middle;\n",
       "    }\n",
       "\n",
       "    .dataframe tbody tr th {\n",
       "        vertical-align: top;\n",
       "    }\n",
       "\n",
       "    .dataframe thead th {\n",
       "        text-align: right;\n",
       "    }\n",
       "</style>\n",
       "<table border=\"1\" class=\"dataframe\">\n",
       "  <thead>\n",
       "    <tr style=\"text-align: right;\">\n",
       "      <th></th>\n",
       "      <th>Date</th>\n",
       "      <th>Product</th>\n",
       "      <th>Sales</th>\n",
       "      <th>Region</th>\n",
       "      <th>New_Sales</th>\n",
       "    </tr>\n",
       "  </thead>\n",
       "  <tbody>\n",
       "    <tr>\n",
       "      <th>0</th>\n",
       "      <td>2023-01-01</td>\n",
       "      <td>Product3</td>\n",
       "      <td>738</td>\n",
       "      <td>West</td>\n",
       "      <td>1476</td>\n",
       "    </tr>\n",
       "    <tr>\n",
       "      <th>1</th>\n",
       "      <td>2023-01-02</td>\n",
       "      <td>Product2</td>\n",
       "      <td>868</td>\n",
       "      <td>North</td>\n",
       "      <td>1736</td>\n",
       "    </tr>\n",
       "    <tr>\n",
       "      <th>2</th>\n",
       "      <td>2023-01-03</td>\n",
       "      <td>Product2</td>\n",
       "      <td>554</td>\n",
       "      <td>West</td>\n",
       "      <td>1108</td>\n",
       "    </tr>\n",
       "    <tr>\n",
       "      <th>3</th>\n",
       "      <td>2023-01-04</td>\n",
       "      <td>Product1</td>\n",
       "      <td>618</td>\n",
       "      <td>South</td>\n",
       "      <td>1236</td>\n",
       "    </tr>\n",
       "    <tr>\n",
       "      <th>4</th>\n",
       "      <td>2023-01-05</td>\n",
       "      <td>Product3</td>\n",
       "      <td>501</td>\n",
       "      <td>East</td>\n",
       "      <td>1002</td>\n",
       "    </tr>\n",
       "    <tr>\n",
       "      <th>5</th>\n",
       "      <td>2023-01-06</td>\n",
       "      <td>Product1</td>\n",
       "      <td>554</td>\n",
       "      <td>West</td>\n",
       "      <td>1108</td>\n",
       "    </tr>\n",
       "    <tr>\n",
       "      <th>6</th>\n",
       "      <td>2023-01-07</td>\n",
       "      <td>Product3</td>\n",
       "      <td>339</td>\n",
       "      <td>South</td>\n",
       "      <td>678</td>\n",
       "    </tr>\n",
       "    <tr>\n",
       "      <th>7</th>\n",
       "      <td>2023-01-08</td>\n",
       "      <td>Product3</td>\n",
       "      <td>280</td>\n",
       "      <td>South</td>\n",
       "      <td>560</td>\n",
       "    </tr>\n",
       "    <tr>\n",
       "      <th>8</th>\n",
       "      <td>2023-01-09</td>\n",
       "      <td>Product2</td>\n",
       "      <td>806</td>\n",
       "      <td>North</td>\n",
       "      <td>1612</td>\n",
       "    </tr>\n",
       "    <tr>\n",
       "      <th>9</th>\n",
       "      <td>2023-01-10</td>\n",
       "      <td>Product2</td>\n",
       "      <td>816</td>\n",
       "      <td>South</td>\n",
       "      <td>1632</td>\n",
       "    </tr>\n",
       "    <tr>\n",
       "      <th>10</th>\n",
       "      <td>2023-01-11</td>\n",
       "      <td>Product3</td>\n",
       "      <td>469</td>\n",
       "      <td>West</td>\n",
       "      <td>938</td>\n",
       "    </tr>\n",
       "    <tr>\n",
       "      <th>11</th>\n",
       "      <td>2023-01-12</td>\n",
       "      <td>Product3</td>\n",
       "      <td>554</td>\n",
       "      <td>East</td>\n",
       "      <td>1108</td>\n",
       "    </tr>\n",
       "    <tr>\n",
       "      <th>12</th>\n",
       "      <td>2023-01-13</td>\n",
       "      <td>Product3</td>\n",
       "      <td>554</td>\n",
       "      <td>East</td>\n",
       "      <td>1108</td>\n",
       "    </tr>\n",
       "    <tr>\n",
       "      <th>13</th>\n",
       "      <td>2023-01-14</td>\n",
       "      <td>Product3</td>\n",
       "      <td>676</td>\n",
       "      <td>East</td>\n",
       "      <td>1352</td>\n",
       "    </tr>\n",
       "    <tr>\n",
       "      <th>14</th>\n",
       "      <td>2023-01-15</td>\n",
       "      <td>Product1</td>\n",
       "      <td>183</td>\n",
       "      <td>South</td>\n",
       "      <td>366</td>\n",
       "    </tr>\n",
       "    <tr>\n",
       "      <th>15</th>\n",
       "      <td>2023-01-16</td>\n",
       "      <td>Product1</td>\n",
       "      <td>424</td>\n",
       "      <td>South</td>\n",
       "      <td>848</td>\n",
       "    </tr>\n",
       "    <tr>\n",
       "      <th>16</th>\n",
       "      <td>2023-01-17</td>\n",
       "      <td>Product1</td>\n",
       "      <td>554</td>\n",
       "      <td>South</td>\n",
       "      <td>1108</td>\n",
       "    </tr>\n",
       "    <tr>\n",
       "      <th>17</th>\n",
       "      <td>2023-01-18</td>\n",
       "      <td>Product1</td>\n",
       "      <td>554</td>\n",
       "      <td>South</td>\n",
       "      <td>1108</td>\n",
       "    </tr>\n",
       "    <tr>\n",
       "      <th>18</th>\n",
       "      <td>2023-01-19</td>\n",
       "      <td>Product2</td>\n",
       "      <td>124</td>\n",
       "      <td>North</td>\n",
       "      <td>248</td>\n",
       "    </tr>\n",
       "    <tr>\n",
       "      <th>19</th>\n",
       "      <td>2023-01-20</td>\n",
       "      <td>Product3</td>\n",
       "      <td>732</td>\n",
       "      <td>West</td>\n",
       "      <td>1464</td>\n",
       "    </tr>\n",
       "    <tr>\n",
       "      <th>20</th>\n",
       "      <td>2023-01-21</td>\n",
       "      <td>Product2</td>\n",
       "      <td>554</td>\n",
       "      <td>West</td>\n",
       "      <td>1108</td>\n",
       "    </tr>\n",
       "    <tr>\n",
       "      <th>21</th>\n",
       "      <td>2023-01-22</td>\n",
       "      <td>Product3</td>\n",
       "      <td>296</td>\n",
       "      <td>West</td>\n",
       "      <td>592</td>\n",
       "    </tr>\n",
       "    <tr>\n",
       "      <th>22</th>\n",
       "      <td>2023-01-23</td>\n",
       "      <td>Product2</td>\n",
       "      <td>737</td>\n",
       "      <td>West</td>\n",
       "      <td>1474</td>\n",
       "    </tr>\n",
       "    <tr>\n",
       "      <th>23</th>\n",
       "      <td>2023-01-24</td>\n",
       "      <td>Product3</td>\n",
       "      <td>531</td>\n",
       "      <td>East</td>\n",
       "      <td>1062</td>\n",
       "    </tr>\n",
       "    <tr>\n",
       "      <th>24</th>\n",
       "      <td>2023-01-25</td>\n",
       "      <td>Product2</td>\n",
       "      <td>834</td>\n",
       "      <td>North</td>\n",
       "      <td>1668</td>\n",
       "    </tr>\n",
       "  </tbody>\n",
       "</table>\n",
       "</div>"
      ],
      "text/plain": [
       "          Date   Product  Sales Region  New_Sales\n",
       "0   2023-01-01  Product3    738   West       1476\n",
       "1   2023-01-02  Product2    868  North       1736\n",
       "2   2023-01-03  Product2    554   West       1108\n",
       "3   2023-01-04  Product1    618  South       1236\n",
       "4   2023-01-05  Product3    501   East       1002\n",
       "5   2023-01-06  Product1    554   West       1108\n",
       "6   2023-01-07  Product3    339  South        678\n",
       "7   2023-01-08  Product3    280  South        560\n",
       "8   2023-01-09  Product2    806  North       1612\n",
       "9   2023-01-10  Product2    816  South       1632\n",
       "10  2023-01-11  Product3    469   West        938\n",
       "11  2023-01-12  Product3    554   East       1108\n",
       "12  2023-01-13  Product3    554   East       1108\n",
       "13  2023-01-14  Product3    676   East       1352\n",
       "14  2023-01-15  Product1    183  South        366\n",
       "15  2023-01-16  Product1    424  South        848\n",
       "16  2023-01-17  Product1    554  South       1108\n",
       "17  2023-01-18  Product1    554  South       1108\n",
       "18  2023-01-19  Product2    124  North        248\n",
       "19  2023-01-20  Product3    732   West       1464\n",
       "20  2023-01-21  Product2    554   West       1108\n",
       "21  2023-01-22  Product3    296   West        592\n",
       "22  2023-01-23  Product2    737   West       1474\n",
       "23  2023-01-24  Product3    531   East       1062\n",
       "24  2023-01-25  Product2    834  North       1668"
      ]
     },
     "execution_count": 61,
     "metadata": {},
     "output_type": "execute_result"
    }
   ],
   "source": [
    "df"
   ]
  },
  {
   "cell_type": "code",
   "execution_count": 64,
   "id": "c39df832",
   "metadata": {},
   "outputs": [
    {
     "data": {
      "text/plain": [
       "Product\n",
       "Product1    481.166667\n",
       "Product2    661.625000\n",
       "Product3    515.454545\n",
       "Name: Sales, dtype: float64"
      ]
     },
     "execution_count": 64,
     "metadata": {},
     "output_type": "execute_result"
    }
   ],
   "source": [
    "## Data Aggregating and Grouping \n",
    "\n",
    "grouped_mean = df.groupby('Product')['Sales'].mean()\n",
    "grouped_mean"
   ]
  },
  {
   "cell_type": "code",
   "execution_count": 66,
   "id": "8b3f5c79",
   "metadata": {},
   "outputs": [
    {
     "data": {
      "text/plain": [
       "Product\n",
       "Product3    11\n",
       "Product2     8\n",
       "Product1     6\n",
       "Name: count, dtype: int64"
      ]
     },
     "execution_count": 66,
     "metadata": {},
     "output_type": "execute_result"
    }
   ],
   "source": [
    "df['Product'].value_counts()"
   ]
  },
  {
   "cell_type": "code",
   "execution_count": 68,
   "id": "dea1c160",
   "metadata": {},
   "outputs": [
    {
     "data": {
      "text/plain": [
       "Product   Region\n",
       "Product1  South     2333\n",
       "          West       554\n",
       "Product2  North     2632\n",
       "          South      816\n",
       "          West      1845\n",
       "Product3  East      2816\n",
       "          South      619\n",
       "          West      2235\n",
       "Name: Sales, dtype: int64"
      ]
     },
     "execution_count": 68,
     "metadata": {},
     "output_type": "execute_result"
    }
   ],
   "source": [
    "df.groupby(['Product' , 'Region'])['Sales'].sum()"
   ]
  },
  {
   "cell_type": "code",
   "execution_count": 70,
   "id": "ea5c0983",
   "metadata": {},
   "outputs": [
    {
     "data": {
      "text/plain": [
       "Region\n",
       "East     563.20\n",
       "North    658.00\n",
       "South    471.00\n",
       "West     579.25\n",
       "Name: Sales, dtype: float64"
      ]
     },
     "execution_count": 70,
     "metadata": {},
     "output_type": "execute_result"
    }
   ],
   "source": [
    "df.groupby('Region')['Sales'].mean()"
   ]
  },
  {
   "cell_type": "markdown",
   "id": "c446fb0a",
   "metadata": {},
   "source": [
    "### Merging and Joining DataFrames\n",
    "\n",
    "##### On is used for selecting the column on the basis of which we gonna join the dataFrames and inner , outer means whehter we gonna join intersectionally or unionally"
   ]
  },
  {
   "cell_type": "markdown",
   "id": "c9220540",
   "metadata": {},
   "source": [
    "# **Reading Data From Different Sources**"
   ]
  },
  {
   "cell_type": "code",
   "execution_count": 76,
   "id": "8262ee36",
   "metadata": {},
   "outputs": [
    {
     "name": "stdout",
     "output_type": "stream",
     "text": [
      "Collecting lxml\n",
      "  Downloading lxml-6.0.0-cp312-cp312-win_amd64.whl.metadata (6.8 kB)\n",
      "Downloading lxml-6.0.0-cp312-cp312-win_amd64.whl (4.0 MB)\n",
      "   ---------------------------------------- 0.0/4.0 MB ? eta -:--:--\n",
      "   ---------------------------------------- 0.0/4.0 MB ? eta -:--:--\n",
      "   ---------------------------------------- 0.0/4.0 MB ? eta -:--:--\n",
      "   ---------------------------------------- 0.0/4.0 MB ? eta -:--:--\n",
      "   ---------------------------------------- 0.0/4.0 MB ? eta -:--:--\n",
      "   ---------------------------------------- 0.0/4.0 MB ? eta -:--:--\n",
      "   ---------------------------------------- 0.0/4.0 MB ? eta -:--:--\n",
      "   ---------------------------------------- 0.0/4.0 MB ? eta -:--:--\n",
      "   ---------------------------------------- 0.0/4.0 MB ? eta -:--:--\n",
      "   ---------------------------------------- 0.0/4.0 MB ? eta -:--:--\n",
      "   ---------------------------------------- 0.0/4.0 MB ? eta -:--:--\n",
      "   ---------------------------------------- 0.0/4.0 MB ? eta -:--:--\n",
      "   ---------------------------------------- 0.0/4.0 MB ? eta -:--:--\n",
      "   ---------------------------------------- 0.0/4.0 MB ? eta -:--:--\n",
      "   ---------------------------------------- 0.0/4.0 MB ? eta -:--:--\n",
      "   ---------------------------------------- 0.0/4.0 MB ? eta -:--:--\n",
      "   ---------------------------------------- 0.0/4.0 MB ? eta -:--:--\n",
      "   -- ------------------------------------- 0.3/4.0 MB ? eta -:--:--\n",
      "   -- ------------------------------------- 0.3/4.0 MB ? eta -:--:--\n",
      "   -- ------------------------------------- 0.3/4.0 MB ? eta -:--:--\n",
      "   -- ------------------------------------- 0.3/4.0 MB ? eta -:--:--\n",
      "   ----- ---------------------------------- 0.5/4.0 MB 262.1 kB/s eta 0:00:14\n",
      "   ----- ---------------------------------- 0.5/4.0 MB 262.1 kB/s eta 0:00:14\n",
      "   ----- ---------------------------------- 0.5/4.0 MB 262.1 kB/s eta 0:00:14\n",
      "   ----- ---------------------------------- 0.5/4.0 MB 262.1 kB/s eta 0:00:14\n",
      "   ----- ---------------------------------- 0.5/4.0 MB 262.1 kB/s eta 0:00:14\n",
      "   ----- ---------------------------------- 0.5/4.0 MB 262.1 kB/s eta 0:00:14\n",
      "   ----- ---------------------------------- 0.5/4.0 MB 262.1 kB/s eta 0:00:14\n",
      "   ----- ---------------------------------- 0.5/4.0 MB 262.1 kB/s eta 0:00:14\n",
      "   ------- -------------------------------- 0.8/4.0 MB 195.1 kB/s eta 0:00:17\n",
      "   ------- -------------------------------- 0.8/4.0 MB 195.1 kB/s eta 0:00:17\n",
      "   ------- -------------------------------- 0.8/4.0 MB 195.1 kB/s eta 0:00:17\n",
      "   ------- -------------------------------- 0.8/4.0 MB 195.1 kB/s eta 0:00:17\n",
      "   ------- -------------------------------- 0.8/4.0 MB 195.1 kB/s eta 0:00:17\n",
      "   ------- -------------------------------- 0.8/4.0 MB 195.1 kB/s eta 0:00:17\n",
      "   ------- -------------------------------- 0.8/4.0 MB 195.1 kB/s eta 0:00:17\n",
      "   ------- -------------------------------- 0.8/4.0 MB 195.1 kB/s eta 0:00:17\n",
      "   ------- -------------------------------- 0.8/4.0 MB 195.1 kB/s eta 0:00:17\n",
      "   ------- -------------------------------- 0.8/4.0 MB 195.1 kB/s eta 0:00:17\n",
      "   ---------- ----------------------------- 1.0/4.0 MB 162.9 kB/s eta 0:00:19\n",
      "   ---------- ----------------------------- 1.0/4.0 MB 162.9 kB/s eta 0:00:19\n",
      "   ---------- ----------------------------- 1.0/4.0 MB 162.9 kB/s eta 0:00:19\n",
      "   ---------- ----------------------------- 1.0/4.0 MB 162.9 kB/s eta 0:00:19\n",
      "   ---------- ----------------------------- 1.0/4.0 MB 162.9 kB/s eta 0:00:19\n",
      "   ---------- ----------------------------- 1.0/4.0 MB 162.9 kB/s eta 0:00:19\n",
      "   ---------- ----------------------------- 1.0/4.0 MB 162.9 kB/s eta 0:00:19\n",
      "   ------------- -------------------------- 1.3/4.0 MB 166.9 kB/s eta 0:00:17\n",
      "   ------------- -------------------------- 1.3/4.0 MB 166.9 kB/s eta 0:00:17\n",
      "   ------------- -------------------------- 1.3/4.0 MB 166.9 kB/s eta 0:00:17\n",
      "   ------------- -------------------------- 1.3/4.0 MB 166.9 kB/s eta 0:00:17\n",
      "   ------------- -------------------------- 1.3/4.0 MB 166.9 kB/s eta 0:00:17\n",
      "   ------------- -------------------------- 1.3/4.0 MB 166.9 kB/s eta 0:00:17\n",
      "   ------------- -------------------------- 1.3/4.0 MB 166.9 kB/s eta 0:00:17\n",
      "   ------------- -------------------------- 1.3/4.0 MB 166.9 kB/s eta 0:00:17\n",
      "   --------------- ------------------------ 1.6/4.0 MB 162.9 kB/s eta 0:00:15\n",
      "   --------------- ------------------------ 1.6/4.0 MB 162.9 kB/s eta 0:00:15\n",
      "   --------------- ------------------------ 1.6/4.0 MB 162.9 kB/s eta 0:00:15\n",
      "   --------------- ------------------------ 1.6/4.0 MB 162.9 kB/s eta 0:00:15\n",
      "   --------------- ------------------------ 1.6/4.0 MB 162.9 kB/s eta 0:00:15\n",
      "   --------------- ------------------------ 1.6/4.0 MB 162.9 kB/s eta 0:00:15\n",
      "   --------------- ------------------------ 1.6/4.0 MB 162.9 kB/s eta 0:00:15\n",
      "   --------------- ------------------------ 1.6/4.0 MB 162.9 kB/s eta 0:00:15\n",
      "   --------------- ------------------------ 1.6/4.0 MB 162.9 kB/s eta 0:00:15\n",
      "   --------------- ------------------------ 1.6/4.0 MB 162.9 kB/s eta 0:00:15\n",
      "   --------------- ------------------------ 1.6/4.0 MB 162.9 kB/s eta 0:00:15\n",
      "   --------------- ------------------------ 1.6/4.0 MB 162.9 kB/s eta 0:00:15\n",
      "   --------------- ------------------------ 1.6/4.0 MB 162.9 kB/s eta 0:00:15\n",
      "   --------------- ------------------------ 1.6/4.0 MB 162.9 kB/s eta 0:00:15\n",
      "   --------------- ------------------------ 1.6/4.0 MB 162.9 kB/s eta 0:00:15\n",
      "   --------------- ------------------------ 1.6/4.0 MB 162.9 kB/s eta 0:00:15\n",
      "   --------------- ------------------------ 1.6/4.0 MB 162.9 kB/s eta 0:00:15\n",
      "   --------------- ------------------------ 1.6/4.0 MB 162.9 kB/s eta 0:00:15\n",
      "   --------------- ------------------------ 1.6/4.0 MB 162.9 kB/s eta 0:00:15\n",
      "   --------------- ------------------------ 1.6/4.0 MB 162.9 kB/s eta 0:00:15\n",
      "   --------------- ------------------------ 1.6/4.0 MB 162.9 kB/s eta 0:00:15\n",
      "   ------------------ --------------------- 1.8/4.0 MB 125.8 kB/s eta 0:00:18\n",
      "   ------------------ --------------------- 1.8/4.0 MB 125.8 kB/s eta 0:00:18\n",
      "   ------------------ --------------------- 1.8/4.0 MB 125.8 kB/s eta 0:00:18\n",
      "   ------------------ --------------------- 1.8/4.0 MB 125.8 kB/s eta 0:00:18\n",
      "   ------------------ --------------------- 1.8/4.0 MB 125.8 kB/s eta 0:00:18\n",
      "   ------------------ --------------------- 1.8/4.0 MB 125.8 kB/s eta 0:00:18\n",
      "   ------------------ --------------------- 1.8/4.0 MB 125.8 kB/s eta 0:00:18\n",
      "   ------------------ --------------------- 1.8/4.0 MB 125.8 kB/s eta 0:00:18\n",
      "   ------------------ --------------------- 1.8/4.0 MB 125.8 kB/s eta 0:00:18\n",
      "   ------------------ --------------------- 1.8/4.0 MB 125.8 kB/s eta 0:00:18\n",
      "   ------------------ --------------------- 1.8/4.0 MB 125.8 kB/s eta 0:00:18\n",
      "   ------------------ --------------------- 1.8/4.0 MB 125.8 kB/s eta 0:00:18\n",
      "   -------------------- ------------------- 2.1/4.0 MB 121.7 kB/s eta 0:00:16\n",
      "   -------------------- ------------------- 2.1/4.0 MB 121.7 kB/s eta 0:00:16\n",
      "   -------------------- ------------------- 2.1/4.0 MB 121.7 kB/s eta 0:00:16\n",
      "   -------------------- ------------------- 2.1/4.0 MB 121.7 kB/s eta 0:00:16\n",
      "   -------------------- ------------------- 2.1/4.0 MB 121.7 kB/s eta 0:00:16\n",
      "   -------------------- ------------------- 2.1/4.0 MB 121.7 kB/s eta 0:00:16\n",
      "   -------------------- ------------------- 2.1/4.0 MB 121.7 kB/s eta 0:00:16\n",
      "   -------------------- ------------------- 2.1/4.0 MB 121.7 kB/s eta 0:00:16\n",
      "   -------------------- ------------------- 2.1/4.0 MB 121.7 kB/s eta 0:00:16\n",
      "   -------------------- ------------------- 2.1/4.0 MB 121.7 kB/s eta 0:00:16\n",
      "   -------------------- ------------------- 2.1/4.0 MB 121.7 kB/s eta 0:00:16\n",
      "   -------------------- ------------------- 2.1/4.0 MB 121.7 kB/s eta 0:00:16\n",
      "   -------------------- ------------------- 2.1/4.0 MB 121.7 kB/s eta 0:00:16\n",
      "   -------------------- ------------------- 2.1/4.0 MB 121.7 kB/s eta 0:00:16\n",
      "   -------------------- ------------------- 2.1/4.0 MB 121.7 kB/s eta 0:00:16\n",
      "   -------------------- ------------------- 2.1/4.0 MB 121.7 kB/s eta 0:00:16\n",
      "   -------------------- ------------------- 2.1/4.0 MB 121.7 kB/s eta 0:00:16\n",
      "   -------------------- ------------------- 2.1/4.0 MB 121.7 kB/s eta 0:00:16\n",
      "   -------------------- ------------------- 2.1/4.0 MB 121.7 kB/s eta 0:00:16\n",
      "   ----------------------- ---------------- 2.4/4.0 MB 110.4 kB/s eta 0:00:15\n",
      "   ----------------------- ---------------- 2.4/4.0 MB 110.4 kB/s eta 0:00:15\n",
      "   ----------------------- ---------------- 2.4/4.0 MB 110.4 kB/s eta 0:00:15\n",
      "   ----------------------- ---------------- 2.4/4.0 MB 110.4 kB/s eta 0:00:15\n",
      "   ----------------------- ---------------- 2.4/4.0 MB 110.4 kB/s eta 0:00:15\n",
      "   ----------------------- ---------------- 2.4/4.0 MB 110.4 kB/s eta 0:00:15\n",
      "   ----------------------- ---------------- 2.4/4.0 MB 110.4 kB/s eta 0:00:15\n",
      "   ----------------------- ---------------- 2.4/4.0 MB 110.4 kB/s eta 0:00:15\n",
      "   ----------------------- ---------------- 2.4/4.0 MB 110.4 kB/s eta 0:00:15\n",
      "   ----------------------- ---------------- 2.4/4.0 MB 110.4 kB/s eta 0:00:15\n",
      "   ----------------------- ---------------- 2.4/4.0 MB 110.4 kB/s eta 0:00:15\n",
      "   ----------------------- ---------------- 2.4/4.0 MB 110.4 kB/s eta 0:00:15\n",
      "   ----------------------- ---------------- 2.4/4.0 MB 110.4 kB/s eta 0:00:15\n",
      "   ----------------------- ---------------- 2.4/4.0 MB 110.4 kB/s eta 0:00:15\n",
      "   ----------------------- ---------------- 2.4/4.0 MB 110.4 kB/s eta 0:00:15\n",
      "   ----------------------- ---------------- 2.4/4.0 MB 110.4 kB/s eta 0:00:15\n",
      "   ----------------------- ---------------- 2.4/4.0 MB 110.4 kB/s eta 0:00:15\n",
      "   ----------------------- ---------------- 2.4/4.0 MB 110.4 kB/s eta 0:00:15\n",
      "   ----------------------- ---------------- 2.4/4.0 MB 110.4 kB/s eta 0:00:15\n",
      "   ----------------------- ---------------- 2.4/4.0 MB 110.4 kB/s eta 0:00:15\n",
      "   ----------------------- ---------------- 2.4/4.0 MB 110.4 kB/s eta 0:00:15\n",
      "   ----------------------- ---------------- 2.4/4.0 MB 110.4 kB/s eta 0:00:15\n",
      "   ----------------------- ---------------- 2.4/4.0 MB 110.4 kB/s eta 0:00:15\n",
      "   ----------------------- ---------------- 2.4/4.0 MB 110.4 kB/s eta 0:00:15\n",
      "   ----------------------- ---------------- 2.4/4.0 MB 110.4 kB/s eta 0:00:15\n",
      "   ----------------------- ---------------- 2.4/4.0 MB 110.4 kB/s eta 0:00:15\n",
      "   -------------------------- ------------- 2.6/4.0 MB 95.9 kB/s eta 0:00:15\n",
      "   -------------------------- ------------- 2.6/4.0 MB 95.9 kB/s eta 0:00:15\n",
      "   -------------------------- ------------- 2.6/4.0 MB 95.9 kB/s eta 0:00:15\n",
      "   -------------------------- ------------- 2.6/4.0 MB 95.9 kB/s eta 0:00:15\n",
      "   -------------------------- ------------- 2.6/4.0 MB 95.9 kB/s eta 0:00:15\n",
      "   -------------------------- ------------- 2.6/4.0 MB 95.9 kB/s eta 0:00:15\n",
      "   -------------------------- ------------- 2.6/4.0 MB 95.9 kB/s eta 0:00:15\n",
      "   -------------------------- ------------- 2.6/4.0 MB 95.9 kB/s eta 0:00:15\n",
      "   -------------------------- ------------- 2.6/4.0 MB 95.9 kB/s eta 0:00:15\n",
      "   -------------------------- ------------- 2.6/4.0 MB 95.9 kB/s eta 0:00:15\n",
      "   -------------------------- ------------- 2.6/4.0 MB 95.9 kB/s eta 0:00:15\n",
      "   -------------------------- ------------- 2.6/4.0 MB 95.9 kB/s eta 0:00:15\n",
      "   -------------------------- ------------- 2.6/4.0 MB 95.9 kB/s eta 0:00:15\n",
      "   -------------------------- ------------- 2.6/4.0 MB 95.9 kB/s eta 0:00:15\n",
      "   -------------------------- ------------- 2.6/4.0 MB 95.9 kB/s eta 0:00:15\n",
      "   -------------------------- ------------- 2.6/4.0 MB 95.9 kB/s eta 0:00:15\n",
      "   -------------------------- ------------- 2.6/4.0 MB 95.9 kB/s eta 0:00:15\n",
      "   -------------------------- ------------- 2.6/4.0 MB 95.9 kB/s eta 0:00:15\n",
      "   -------------------------- ------------- 2.6/4.0 MB 95.9 kB/s eta 0:00:15\n",
      "   -------------------------- ------------- 2.6/4.0 MB 95.9 kB/s eta 0:00:15\n",
      "   -------------------------- ------------- 2.6/4.0 MB 95.9 kB/s eta 0:00:15\n",
      "   -------------------------- ------------- 2.6/4.0 MB 95.9 kB/s eta 0:00:15\n",
      "   -------------------------- ------------- 2.6/4.0 MB 95.9 kB/s eta 0:00:15\n",
      "   -------------------------- ------------- 2.6/4.0 MB 95.9 kB/s eta 0:00:15\n",
      "   -------------------------- ------------- 2.6/4.0 MB 95.9 kB/s eta 0:00:15\n",
      "   -------------------------- ------------- 2.6/4.0 MB 95.9 kB/s eta 0:00:15\n",
      "   -------------------------- ------------- 2.6/4.0 MB 95.9 kB/s eta 0:00:15\n",
      "   -------------------------- ------------- 2.6/4.0 MB 95.9 kB/s eta 0:00:15\n",
      "   ---------------------------- ----------- 2.9/4.0 MB 79.8 kB/s eta 0:00:15\n",
      "   ---------------------------- ----------- 2.9/4.0 MB 79.8 kB/s eta 0:00:15\n",
      "   ---------------------------- ----------- 2.9/4.0 MB 79.8 kB/s eta 0:00:15\n",
      "   ---------------------------- ----------- 2.9/4.0 MB 79.8 kB/s eta 0:00:15\n",
      "   ---------------------------- ----------- 2.9/4.0 MB 79.8 kB/s eta 0:00:15\n",
      "   ---------------------------- ----------- 2.9/4.0 MB 79.8 kB/s eta 0:00:15\n",
      "   ---------------------------- ----------- 2.9/4.0 MB 79.8 kB/s eta 0:00:15\n",
      "   ---------------------------- ----------- 2.9/4.0 MB 79.8 kB/s eta 0:00:15\n",
      "   ---------------------------- ----------- 2.9/4.0 MB 79.8 kB/s eta 0:00:15\n",
      "   ---------------------------- ----------- 2.9/4.0 MB 79.8 kB/s eta 0:00:15\n",
      "   ---------------------------- ----------- 2.9/4.0 MB 79.8 kB/s eta 0:00:15\n",
      "   ---------------------------- ----------- 2.9/4.0 MB 79.8 kB/s eta 0:00:15\n",
      "   ---------------------------- ----------- 2.9/4.0 MB 79.8 kB/s eta 0:00:15\n",
      "   ---------------------------- ----------- 2.9/4.0 MB 79.8 kB/s eta 0:00:15\n",
      "   ---------------------------- ----------- 2.9/4.0 MB 79.8 kB/s eta 0:00:15\n",
      "   ---------------------------- ----------- 2.9/4.0 MB 79.8 kB/s eta 0:00:15\n",
      "   ---------------------------- ----------- 2.9/4.0 MB 79.8 kB/s eta 0:00:15\n",
      "   ---------------------------- ----------- 2.9/4.0 MB 79.8 kB/s eta 0:00:15\n",
      "   ---------------------------- ----------- 2.9/4.0 MB 79.8 kB/s eta 0:00:15\n",
      "   ---------------------------- ----------- 2.9/4.0 MB 79.8 kB/s eta 0:00:15\n",
      "   ---------------------------- ----------- 2.9/4.0 MB 79.8 kB/s eta 0:00:15\n",
      "   ---------------------------- ----------- 2.9/4.0 MB 79.8 kB/s eta 0:00:15\n",
      "   ---------------------------- ----------- 2.9/4.0 MB 79.8 kB/s eta 0:00:15\n",
      "   ------------------------------- -------- 3.1/4.0 MB 62.8 kB/s eta 0:00:14\n",
      "   ------------------------------- -------- 3.1/4.0 MB 62.8 kB/s eta 0:00:14\n",
      "   ------------------------------- -------- 3.1/4.0 MB 62.8 kB/s eta 0:00:14\n",
      "   ------------------------------- -------- 3.1/4.0 MB 62.8 kB/s eta 0:00:14\n",
      "   ------------------------------- -------- 3.1/4.0 MB 62.8 kB/s eta 0:00:14\n",
      "   ------------------------------- -------- 3.1/4.0 MB 62.8 kB/s eta 0:00:14\n",
      "   ------------------------------- -------- 3.1/4.0 MB 62.8 kB/s eta 0:00:14\n",
      "   ------------------------------- -------- 3.1/4.0 MB 62.8 kB/s eta 0:00:14\n",
      "   --------------------------------- ------ 3.4/4.0 MB 62.5 kB/s eta 0:00:10\n",
      "   --------------------------------- ------ 3.4/4.0 MB 62.5 kB/s eta 0:00:10\n",
      "   --------------------------------- ------ 3.4/4.0 MB 62.5 kB/s eta 0:00:10\n",
      "   --------------------------------- ------ 3.4/4.0 MB 62.5 kB/s eta 0:00:10\n",
      "   --------------------------------- ------ 3.4/4.0 MB 62.5 kB/s eta 0:00:10\n",
      "   --------------------------------- ------ 3.4/4.0 MB 62.5 kB/s eta 0:00:10\n",
      "   --------------------------------- ------ 3.4/4.0 MB 62.5 kB/s eta 0:00:10\n",
      "   ------------------------------------ --- 3.7/4.0 MB 69.9 kB/s eta 0:00:05\n",
      "   ------------------------------------ --- 3.7/4.0 MB 69.9 kB/s eta 0:00:05\n",
      "   ------------------------------------ --- 3.7/4.0 MB 69.9 kB/s eta 0:00:05\n",
      "   ------------------------------------ --- 3.7/4.0 MB 69.9 kB/s eta 0:00:05\n",
      "   ------------------------------------ --- 3.7/4.0 MB 69.9 kB/s eta 0:00:05\n",
      "   ------------------------------------ --- 3.7/4.0 MB 69.9 kB/s eta 0:00:05\n",
      "   ---------------------------------------  3.9/4.0 MB 75.8 kB/s eta 0:00:02\n",
      "   ---------------------------------------  3.9/4.0 MB 75.8 kB/s eta 0:00:02\n",
      "   ---------------------------------------  3.9/4.0 MB 75.8 kB/s eta 0:00:02\n",
      "   ---------------------------------------  3.9/4.0 MB 75.8 kB/s eta 0:00:02\n",
      "   ---------------------------------------- 4.0/4.0 MB 76.5 kB/s eta 0:00:00\n",
      "Installing collected packages: lxml\n",
      "Successfully installed lxml-6.0.0\n"
     ]
    }
   ],
   "source": [
    "# !pip install html5lib\n",
    "# !pip install beautifulsoup4\n",
    "!pip install lxml\n",
    "\n"
   ]
  },
  {
   "cell_type": "code",
   "execution_count": null,
   "id": "ad355245",
   "metadata": {},
   "outputs": [
    {
     "data": {
      "text/html": [
       "<div>\n",
       "<style scoped>\n",
       "    .dataframe tbody tr th:only-of-type {\n",
       "        vertical-align: middle;\n",
       "    }\n",
       "\n",
       "    .dataframe tbody tr th {\n",
       "        vertical-align: top;\n",
       "    }\n",
       "\n",
       "    .dataframe thead th {\n",
       "        text-align: right;\n",
       "    }\n",
       "</style>\n",
       "<table border=\"1\" class=\"dataframe\">\n",
       "  <thead>\n",
       "    <tr style=\"text-align: right;\">\n",
       "      <th></th>\n",
       "      <th>Bank Name</th>\n",
       "      <th>City</th>\n",
       "      <th>State</th>\n",
       "      <th>Cert</th>\n",
       "      <th>Acquiring Institution</th>\n",
       "      <th>Closing Date</th>\n",
       "      <th>Fund  Sort ascending</th>\n",
       "    </tr>\n",
       "  </thead>\n",
       "  <tbody>\n",
       "    <tr>\n",
       "      <th>0</th>\n",
       "      <td>The Santa Anna National Bank</td>\n",
       "      <td>Santa Anna</td>\n",
       "      <td>Texas</td>\n",
       "      <td>5520</td>\n",
       "      <td>Coleman County State Bank</td>\n",
       "      <td>June 27, 2025</td>\n",
       "      <td>10549</td>\n",
       "    </tr>\n",
       "    <tr>\n",
       "      <th>1</th>\n",
       "      <td>Pulaski Savings Bank</td>\n",
       "      <td>Chicago</td>\n",
       "      <td>Illinois</td>\n",
       "      <td>28611</td>\n",
       "      <td>Millennium Bank</td>\n",
       "      <td>January 17, 2025</td>\n",
       "      <td>10548</td>\n",
       "    </tr>\n",
       "    <tr>\n",
       "      <th>2</th>\n",
       "      <td>The First National Bank of Lindsay</td>\n",
       "      <td>Lindsay</td>\n",
       "      <td>Oklahoma</td>\n",
       "      <td>4134</td>\n",
       "      <td>First Bank &amp; Trust Co., Duncan, OK</td>\n",
       "      <td>October 18, 2024</td>\n",
       "      <td>10547</td>\n",
       "    </tr>\n",
       "    <tr>\n",
       "      <th>3</th>\n",
       "      <td>Republic First Bank dba Republic Bank</td>\n",
       "      <td>Philadelphia</td>\n",
       "      <td>Pennsylvania</td>\n",
       "      <td>27332</td>\n",
       "      <td>Fulton Bank, National Association</td>\n",
       "      <td>April 26, 2024</td>\n",
       "      <td>10546</td>\n",
       "    </tr>\n",
       "    <tr>\n",
       "      <th>4</th>\n",
       "      <td>Citizens Bank</td>\n",
       "      <td>Sac City</td>\n",
       "      <td>Iowa</td>\n",
       "      <td>8758</td>\n",
       "      <td>Iowa Trust &amp; Savings Bank</td>\n",
       "      <td>November 3, 2023</td>\n",
       "      <td>10545</td>\n",
       "    </tr>\n",
       "    <tr>\n",
       "      <th>5</th>\n",
       "      <td>Heartland Tri-State Bank</td>\n",
       "      <td>Elkhart</td>\n",
       "      <td>Kansas</td>\n",
       "      <td>25851</td>\n",
       "      <td>Dream First Bank, N.A.</td>\n",
       "      <td>July 28, 2023</td>\n",
       "      <td>10544</td>\n",
       "    </tr>\n",
       "    <tr>\n",
       "      <th>6</th>\n",
       "      <td>First Republic Bank</td>\n",
       "      <td>San Francisco</td>\n",
       "      <td>California</td>\n",
       "      <td>59017</td>\n",
       "      <td>JPMorgan Chase Bank, N.A.</td>\n",
       "      <td>May 1, 2023</td>\n",
       "      <td>10543</td>\n",
       "    </tr>\n",
       "    <tr>\n",
       "      <th>7</th>\n",
       "      <td>Signature Bank</td>\n",
       "      <td>New York</td>\n",
       "      <td>New York</td>\n",
       "      <td>57053</td>\n",
       "      <td>Flagstar Bank, N.A.</td>\n",
       "      <td>March 12, 2023</td>\n",
       "      <td>10540</td>\n",
       "    </tr>\n",
       "    <tr>\n",
       "      <th>8</th>\n",
       "      <td>Silicon Valley Bank</td>\n",
       "      <td>Santa Clara</td>\n",
       "      <td>California</td>\n",
       "      <td>24735</td>\n",
       "      <td>First Citizens Bank &amp; Trust Company</td>\n",
       "      <td>March 10, 2023</td>\n",
       "      <td>10539</td>\n",
       "    </tr>\n",
       "    <tr>\n",
       "      <th>9</th>\n",
       "      <td>Almena State Bank</td>\n",
       "      <td>Almena</td>\n",
       "      <td>Kansas</td>\n",
       "      <td>15426</td>\n",
       "      <td>Equity Bank</td>\n",
       "      <td>October 23, 2020</td>\n",
       "      <td>10538</td>\n",
       "    </tr>\n",
       "  </tbody>\n",
       "</table>\n",
       "</div>"
      ],
      "text/plain": [
       "                               Bank Name           City         State   Cert  \\\n",
       "0           The Santa Anna National Bank     Santa Anna         Texas   5520   \n",
       "1                   Pulaski Savings Bank        Chicago      Illinois  28611   \n",
       "2     The First National Bank of Lindsay        Lindsay      Oklahoma   4134   \n",
       "3  Republic First Bank dba Republic Bank   Philadelphia  Pennsylvania  27332   \n",
       "4                          Citizens Bank       Sac City          Iowa   8758   \n",
       "5               Heartland Tri-State Bank        Elkhart        Kansas  25851   \n",
       "6                    First Republic Bank  San Francisco    California  59017   \n",
       "7                         Signature Bank       New York      New York  57053   \n",
       "8                    Silicon Valley Bank    Santa Clara    California  24735   \n",
       "9                      Almena State Bank         Almena        Kansas  15426   \n",
       "\n",
       "                 Acquiring Institution      Closing Date  Fund  Sort ascending  \n",
       "0            Coleman County State Bank     June 27, 2025                 10549  \n",
       "1                      Millennium Bank  January 17, 2025                 10548  \n",
       "2   First Bank & Trust Co., Duncan, OK  October 18, 2024                 10547  \n",
       "3    Fulton Bank, National Association    April 26, 2024                 10546  \n",
       "4            Iowa Trust & Savings Bank  November 3, 2023                 10545  \n",
       "5               Dream First Bank, N.A.     July 28, 2023                 10544  \n",
       "6            JPMorgan Chase Bank, N.A.       May 1, 2023                 10543  \n",
       "7                  Flagstar Bank, N.A.    March 12, 2023                 10540  \n",
       "8  First Citizens Bank & Trust Company    March 10, 2023                 10539  \n",
       "9                          Equity Bank  October 23, 2020                 10538  "
      ]
     },
     "execution_count": 79,
     "metadata": {},
     "output_type": "execute_result"
    }
   ],
   "source": [
    "## Read Html\n",
    "\n",
    "url=\"https://www.fdic.gov/resources/resolutions/bank-failures/failed-bank-list/\"\n",
    "\n",
    "df=pd.read_html(url)\n",
    "df[0]"
   ]
  },
  {
   "cell_type": "code",
   "execution_count": 82,
   "id": "0caf196f",
   "metadata": {},
   "outputs": [],
   "source": [
    "url=\"https://en.wikipedia.org/wiki/Mobile_country_code\"\n",
    "df = pd.read_html(url,match=\"Country\",header=0)[0]"
   ]
  },
  {
   "cell_type": "code",
   "execution_count": null,
   "id": "bc70f345",
   "metadata": {},
   "outputs": [
    {
     "data": {
      "text/html": [
       "<div>\n",
       "<style scoped>\n",
       "    .dataframe tbody tr th:only-of-type {\n",
       "        vertical-align: middle;\n",
       "    }\n",
       "\n",
       "    .dataframe tbody tr th {\n",
       "        vertical-align: top;\n",
       "    }\n",
       "\n",
       "    .dataframe thead th {\n",
       "        text-align: right;\n",
       "    }\n",
       "</style>\n",
       "<table border=\"1\" class=\"dataframe\">\n",
       "  <thead>\n",
       "    <tr style=\"text-align: right;\">\n",
       "      <th></th>\n",
       "      <th>Mobile country code</th>\n",
       "      <th>Country</th>\n",
       "      <th>ISO 3166</th>\n",
       "      <th>Mobile network codes</th>\n",
       "      <th>National MNC authority</th>\n",
       "      <th>Remarks</th>\n",
       "    </tr>\n",
       "  </thead>\n",
       "  <tbody>\n",
       "  </tbody>\n",
       "</table>\n",
       "</div>"
      ],
      "text/plain": [
       "Empty DataFrame\n",
       "Columns: [Mobile country code, Country, ISO 3166, Mobile network codes, National MNC authority, Remarks]\n",
       "Index: []"
      ]
     },
     "execution_count": 85,
     "metadata": {},
     "output_type": "execute_result"
    }
   ],
   "source": []
  },
  {
   "cell_type": "code",
   "execution_count": 71,
   "id": "d7627c1f",
   "metadata": {},
   "outputs": [],
   "source": [
    "df=pd.read_csv(\"https://archive.ics.uci.edu/ml/machine-learning-databases/wine/wine.data\",header=None)"
   ]
  },
  {
   "cell_type": "code",
   "execution_count": 73,
   "id": "61c43d7f",
   "metadata": {},
   "outputs": [],
   "source": [
    "df.head()\n",
    "df.to_csv('wine.csv')"
   ]
  },
  {
   "cell_type": "markdown",
   "id": "0975157d",
   "metadata": {},
   "source": [
    "# **Logging In Python**"
   ]
  },
  {
   "cell_type": "markdown",
   "id": "930f2075",
   "metadata": {},
   "source": [
    "### logging in python provides a way to track events , errors and operational Information"
   ]
  },
  {
   "cell_type": "code",
   "execution_count": 86,
   "id": "f3af2cc2",
   "metadata": {},
   "outputs": [],
   "source": [
    "import logging"
   ]
  },
  {
   "cell_type": "code",
   "execution_count": 88,
   "id": "c0ec05eb",
   "metadata": {},
   "outputs": [
    {
     "name": "stderr",
     "output_type": "stream",
     "text": [
      "DEBUG:root:this is a debug message\n",
      "INFO:root:This is a info message\n",
      "WARNING:root:this is a warning message\n",
      "ERROR:root:this is a error message\n",
      "CRITICAL:root:this is a critical message\n"
     ]
    }
   ],
   "source": [
    "#### Configure basic logging settings\n",
    "logging.basicConfig(level=logging.DEBUG)\n",
    "\n",
    "## log messages with different severity messages\n",
    "logging.debug(\"this is a debug message\")\n",
    "logging.info('This is a info message')\n",
    "logging.warning('this is a warning message')\n",
    "logging.error('this is a error message')\n",
    "logging.critical('this is a critical message')"
   ]
  },
  {
   "cell_type": "code",
   "execution_count": 96,
   "id": "f6825181",
   "metadata": {},
   "outputs": [
    {
     "name": "stderr",
     "output_type": "stream",
     "text": [
      "DEBUG:root:This is a debug message\n",
      "INFO:root:This is an info message\n",
      "WARNING:root:This is a warning message\n",
      "ERROR:root:This is an error message\n",
      "CRITICAL:root:This is a critical message\n"
     ]
    }
   ],
   "source": [
    "import logging\n",
    "\n",
    "logging.basicConfig(\n",
    "    filename='app.log',\n",
    "    filemode='w',\n",
    "    level=logging.DEBUG,\n",
    "    format='%(asctime)s - %(name)s - %(levelname)s - %(message)s',\n",
    "    datefmt='%Y-%m-%d %H:%M:%S'\n",
    ")\n",
    "\n",
    "logging.debug(\"This is a debug message\")\n",
    "logging.info(\"This is an info message\")\n",
    "logging.warning(\"This is a warning message\")\n",
    "logging.error(\"This is an error message\")\n",
    "logging.critical(\"This is a critical message\")\n"
   ]
  },
  {
   "cell_type": "markdown",
   "id": "610fb3c5",
   "metadata": {},
   "source": [
    "## **Multiple Loggers**"
   ]
  },
  {
   "cell_type": "code",
   "execution_count": 97,
   "id": "9a6ffe0a",
   "metadata": {},
   "outputs": [],
   "source": [
    "import logging\n",
    "\n",
    "logger1 = logging.getLogger('module1')\n",
    "logger1.setLevel(logging.DEBUG)\n",
    "\n",
    "logger2 = logging.getLogger('module2')\n",
    "logger2.setLevel(logging.WARNING)\n",
    "\n",
    "logging.basicConfig(\n",
    "    level=logging.DEBUG,\n",
    "    format='%(asctime)s - %(name)s - %(levelname)s - %(message)s',\n",
    "    datefmt='%Y-%m-%d %H:%M:%S'\n",
    ")"
   ]
  },
  {
   "cell_type": "code",
   "execution_count": 98,
   "id": "6717de56",
   "metadata": {},
   "outputs": [
    {
     "name": "stderr",
     "output_type": "stream",
     "text": [
      "DEBUG:module1:this is the debug message for logger 1\n",
      "WARNING:module2:thsi is the warning message for logger 2\n"
     ]
    }
   ],
   "source": [
    "logger1.debug(\"this is the debug message for logger 1\")\n",
    "logger2.warning(\"thsi is the warning message for logger 2\")"
   ]
  },
  {
   "cell_type": "code",
   "execution_count": null,
   "id": "d9786107",
   "metadata": {},
   "outputs": [],
   "source": []
  }
 ],
 "metadata": {
  "kernelspec": {
   "display_name": "Python 3",
   "language": "python",
   "name": "python3"
  },
  "language_info": {
   "codemirror_mode": {
    "name": "ipython",
    "version": 3
   },
   "file_extension": ".py",
   "mimetype": "text/x-python",
   "name": "python",
   "nbconvert_exporter": "python",
   "pygments_lexer": "ipython3",
   "version": "3.12.0"
  }
 },
 "nbformat": 4,
 "nbformat_minor": 5
}
